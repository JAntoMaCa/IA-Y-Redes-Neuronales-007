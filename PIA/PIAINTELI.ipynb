{
  "nbformat": 4,
  "nbformat_minor": 0,
  "metadata": {
    "colab": {
      "provenance": []
    },
    "kernelspec": {
      "name": "python3",
      "display_name": "Python 3"
    },
    "language_info": {
      "name": "python"
    }
  },
  "cells": [
    {
      "cell_type": "markdown",
      "source": [
        "#**PIA: Entrenamiento de una red neuronal convolucional.**\n",
        "#**Identificar diez clases de animales.**"
      ],
      "metadata": {
        "id": "achF4Ldysh3g"
      }
    },
    {
      "cell_type": "markdown",
      "source": [
        "**2127803 José Antonio Martínez Calan IMC**"
      ],
      "metadata": {
        "id": "J0yHvKLMdGYZ"
      }
    },
    {
      "cell_type": "markdown",
      "source": [
        "**Cargar librerías**"
      ],
      "metadata": {
        "id": "9qZ5WxpKdVX4"
      }
    },
    {
      "cell_type": "code",
      "source": [
        "import tensorflow as tf\n",
        "from tensorflow.keras import datasets, layers, models\n",
        "from sklearn.model_selection import train_test_split\n",
        "import numpy as np\n",
        "import os\n",
        "import cv2\n",
        "from collections import defaultdict\n",
        "import random\n",
        "import matplotlib.pyplot as plt\n",
        "from google.colab import files"
      ],
      "metadata": {
        "id": "iDM7BQdfdIc4"
      },
      "execution_count": 58,
      "outputs": []
    },
    {
      "cell_type": "markdown",
      "source": [
        "**Importar conjunto de datos**"
      ],
      "metadata": {
        "id": "I8JYlGzNdkrZ"
      }
    },
    {
      "cell_type": "markdown",
      "source": [
        "*Instalar la librería de Kaggle*"
      ],
      "metadata": {
        "id": "cANOOYq1dpbZ"
      }
    },
    {
      "cell_type": "code",
      "source": [
        "!pip install kaggle"
      ],
      "metadata": {
        "colab": {
          "base_uri": "https://localhost:8080/"
        },
        "id": "KCs88itedBUh",
        "outputId": "8a3380f0-b7cb-4a00-f15c-a46b7635338f"
      },
      "execution_count": 10,
      "outputs": [
        {
          "output_type": "stream",
          "name": "stdout",
          "text": [
            "Requirement already satisfied: kaggle in /usr/local/lib/python3.10/dist-packages (1.6.17)\n",
            "Requirement already satisfied: six>=1.10 in /usr/local/lib/python3.10/dist-packages (from kaggle) (1.16.0)\n",
            "Requirement already satisfied: certifi>=2023.7.22 in /usr/local/lib/python3.10/dist-packages (from kaggle) (2024.8.30)\n",
            "Requirement already satisfied: python-dateutil in /usr/local/lib/python3.10/dist-packages (from kaggle) (2.8.2)\n",
            "Requirement already satisfied: requests in /usr/local/lib/python3.10/dist-packages (from kaggle) (2.32.3)\n",
            "Requirement already satisfied: tqdm in /usr/local/lib/python3.10/dist-packages (from kaggle) (4.66.6)\n",
            "Requirement already satisfied: python-slugify in /usr/local/lib/python3.10/dist-packages (from kaggle) (8.0.4)\n",
            "Requirement already satisfied: urllib3 in /usr/local/lib/python3.10/dist-packages (from kaggle) (2.2.3)\n",
            "Requirement already satisfied: bleach in /usr/local/lib/python3.10/dist-packages (from kaggle) (6.2.0)\n",
            "Requirement already satisfied: webencodings in /usr/local/lib/python3.10/dist-packages (from bleach->kaggle) (0.5.1)\n",
            "Requirement already satisfied: text-unidecode>=1.3 in /usr/local/lib/python3.10/dist-packages (from python-slugify->kaggle) (1.3)\n",
            "Requirement already satisfied: charset-normalizer<4,>=2 in /usr/local/lib/python3.10/dist-packages (from requests->kaggle) (3.4.0)\n",
            "Requirement already satisfied: idna<4,>=2.5 in /usr/local/lib/python3.10/dist-packages (from requests->kaggle) (3.10)\n"
          ]
        }
      ]
    },
    {
      "cell_type": "markdown",
      "source": [
        "*Subir el archivo kaggle.json*"
      ],
      "metadata": {
        "id": "aD8fpbfhdxG4"
      }
    },
    {
      "cell_type": "code",
      "source": [
        "files.upload()"
      ],
      "metadata": {
        "colab": {
          "base_uri": "https://localhost:8080/",
          "height": 90
        },
        "id": "7XMrGGU5d2cp",
        "outputId": "2d5572f2-8103-4c58-dae4-41c382e5cead"
      },
      "execution_count": 3,
      "outputs": [
        {
          "output_type": "display_data",
          "data": {
            "text/plain": [
              "<IPython.core.display.HTML object>"
            ],
            "text/html": [
              "\n",
              "     <input type=\"file\" id=\"files-44cef0e0-345c-4eee-8f99-a89fc6497d1f\" name=\"files[]\" multiple disabled\n",
              "        style=\"border:none\" />\n",
              "     <output id=\"result-44cef0e0-345c-4eee-8f99-a89fc6497d1f\">\n",
              "      Upload widget is only available when the cell has been executed in the\n",
              "      current browser session. Please rerun this cell to enable.\n",
              "      </output>\n",
              "      <script>// Copyright 2017 Google LLC\n",
              "//\n",
              "// Licensed under the Apache License, Version 2.0 (the \"License\");\n",
              "// you may not use this file except in compliance with the License.\n",
              "// You may obtain a copy of the License at\n",
              "//\n",
              "//      http://www.apache.org/licenses/LICENSE-2.0\n",
              "//\n",
              "// Unless required by applicable law or agreed to in writing, software\n",
              "// distributed under the License is distributed on an \"AS IS\" BASIS,\n",
              "// WITHOUT WARRANTIES OR CONDITIONS OF ANY KIND, either express or implied.\n",
              "// See the License for the specific language governing permissions and\n",
              "// limitations under the License.\n",
              "\n",
              "/**\n",
              " * @fileoverview Helpers for google.colab Python module.\n",
              " */\n",
              "(function(scope) {\n",
              "function span(text, styleAttributes = {}) {\n",
              "  const element = document.createElement('span');\n",
              "  element.textContent = text;\n",
              "  for (const key of Object.keys(styleAttributes)) {\n",
              "    element.style[key] = styleAttributes[key];\n",
              "  }\n",
              "  return element;\n",
              "}\n",
              "\n",
              "// Max number of bytes which will be uploaded at a time.\n",
              "const MAX_PAYLOAD_SIZE = 100 * 1024;\n",
              "\n",
              "function _uploadFiles(inputId, outputId) {\n",
              "  const steps = uploadFilesStep(inputId, outputId);\n",
              "  const outputElement = document.getElementById(outputId);\n",
              "  // Cache steps on the outputElement to make it available for the next call\n",
              "  // to uploadFilesContinue from Python.\n",
              "  outputElement.steps = steps;\n",
              "\n",
              "  return _uploadFilesContinue(outputId);\n",
              "}\n",
              "\n",
              "// This is roughly an async generator (not supported in the browser yet),\n",
              "// where there are multiple asynchronous steps and the Python side is going\n",
              "// to poll for completion of each step.\n",
              "// This uses a Promise to block the python side on completion of each step,\n",
              "// then passes the result of the previous step as the input to the next step.\n",
              "function _uploadFilesContinue(outputId) {\n",
              "  const outputElement = document.getElementById(outputId);\n",
              "  const steps = outputElement.steps;\n",
              "\n",
              "  const next = steps.next(outputElement.lastPromiseValue);\n",
              "  return Promise.resolve(next.value.promise).then((value) => {\n",
              "    // Cache the last promise value to make it available to the next\n",
              "    // step of the generator.\n",
              "    outputElement.lastPromiseValue = value;\n",
              "    return next.value.response;\n",
              "  });\n",
              "}\n",
              "\n",
              "/**\n",
              " * Generator function which is called between each async step of the upload\n",
              " * process.\n",
              " * @param {string} inputId Element ID of the input file picker element.\n",
              " * @param {string} outputId Element ID of the output display.\n",
              " * @return {!Iterable<!Object>} Iterable of next steps.\n",
              " */\n",
              "function* uploadFilesStep(inputId, outputId) {\n",
              "  const inputElement = document.getElementById(inputId);\n",
              "  inputElement.disabled = false;\n",
              "\n",
              "  const outputElement = document.getElementById(outputId);\n",
              "  outputElement.innerHTML = '';\n",
              "\n",
              "  const pickedPromise = new Promise((resolve) => {\n",
              "    inputElement.addEventListener('change', (e) => {\n",
              "      resolve(e.target.files);\n",
              "    });\n",
              "  });\n",
              "\n",
              "  const cancel = document.createElement('button');\n",
              "  inputElement.parentElement.appendChild(cancel);\n",
              "  cancel.textContent = 'Cancel upload';\n",
              "  const cancelPromise = new Promise((resolve) => {\n",
              "    cancel.onclick = () => {\n",
              "      resolve(null);\n",
              "    };\n",
              "  });\n",
              "\n",
              "  // Wait for the user to pick the files.\n",
              "  const files = yield {\n",
              "    promise: Promise.race([pickedPromise, cancelPromise]),\n",
              "    response: {\n",
              "      action: 'starting',\n",
              "    }\n",
              "  };\n",
              "\n",
              "  cancel.remove();\n",
              "\n",
              "  // Disable the input element since further picks are not allowed.\n",
              "  inputElement.disabled = true;\n",
              "\n",
              "  if (!files) {\n",
              "    return {\n",
              "      response: {\n",
              "        action: 'complete',\n",
              "      }\n",
              "    };\n",
              "  }\n",
              "\n",
              "  for (const file of files) {\n",
              "    const li = document.createElement('li');\n",
              "    li.append(span(file.name, {fontWeight: 'bold'}));\n",
              "    li.append(span(\n",
              "        `(${file.type || 'n/a'}) - ${file.size} bytes, ` +\n",
              "        `last modified: ${\n",
              "            file.lastModifiedDate ? file.lastModifiedDate.toLocaleDateString() :\n",
              "                                    'n/a'} - `));\n",
              "    const percent = span('0% done');\n",
              "    li.appendChild(percent);\n",
              "\n",
              "    outputElement.appendChild(li);\n",
              "\n",
              "    const fileDataPromise = new Promise((resolve) => {\n",
              "      const reader = new FileReader();\n",
              "      reader.onload = (e) => {\n",
              "        resolve(e.target.result);\n",
              "      };\n",
              "      reader.readAsArrayBuffer(file);\n",
              "    });\n",
              "    // Wait for the data to be ready.\n",
              "    let fileData = yield {\n",
              "      promise: fileDataPromise,\n",
              "      response: {\n",
              "        action: 'continue',\n",
              "      }\n",
              "    };\n",
              "\n",
              "    // Use a chunked sending to avoid message size limits. See b/62115660.\n",
              "    let position = 0;\n",
              "    do {\n",
              "      const length = Math.min(fileData.byteLength - position, MAX_PAYLOAD_SIZE);\n",
              "      const chunk = new Uint8Array(fileData, position, length);\n",
              "      position += length;\n",
              "\n",
              "      const base64 = btoa(String.fromCharCode.apply(null, chunk));\n",
              "      yield {\n",
              "        response: {\n",
              "          action: 'append',\n",
              "          file: file.name,\n",
              "          data: base64,\n",
              "        },\n",
              "      };\n",
              "\n",
              "      let percentDone = fileData.byteLength === 0 ?\n",
              "          100 :\n",
              "          Math.round((position / fileData.byteLength) * 100);\n",
              "      percent.textContent = `${percentDone}% done`;\n",
              "\n",
              "    } while (position < fileData.byteLength);\n",
              "  }\n",
              "\n",
              "  // All done.\n",
              "  yield {\n",
              "    response: {\n",
              "      action: 'complete',\n",
              "    }\n",
              "  };\n",
              "}\n",
              "\n",
              "scope.google = scope.google || {};\n",
              "scope.google.colab = scope.google.colab || {};\n",
              "scope.google.colab._files = {\n",
              "  _uploadFiles,\n",
              "  _uploadFilesContinue,\n",
              "};\n",
              "})(self);\n",
              "</script> "
            ]
          },
          "metadata": {}
        },
        {
          "output_type": "stream",
          "name": "stdout",
          "text": [
            "Saving kaggle.json to kaggle.json\n"
          ]
        },
        {
          "output_type": "execute_result",
          "data": {
            "text/plain": [
              "{'kaggle.json': b'{\"username\":\"joanmartcal\",\"key\":\"37202173817e21f63624f399c4f7f898\"}'}"
            ]
          },
          "metadata": {},
          "execution_count": 3
        }
      ]
    },
    {
      "cell_type": "markdown",
      "source": [
        "*Configurar el archivo kaggle.json*"
      ],
      "metadata": {
        "id": "V9yxTr-ad7A_"
      }
    },
    {
      "cell_type": "code",
      "source": [
        "!mkdir -p ~/.kaggle\n",
        "!mv kaggle.json ~/.kaggle/\n",
        "!chmod 600 ~/.kaggle/kaggle.json"
      ],
      "metadata": {
        "id": "mKai8kXqd_To"
      },
      "execution_count": 4,
      "outputs": []
    },
    {
      "cell_type": "markdown",
      "source": [
        "*Descargar el dataset Animals-10 desde Kaggle*"
      ],
      "metadata": {
        "id": "pceXA5PxeE8n"
      }
    },
    {
      "cell_type": "code",
      "source": [
        "!kaggle datasets download -d alessiocorrado99/animals10"
      ],
      "metadata": {
        "colab": {
          "base_uri": "https://localhost:8080/"
        },
        "id": "8RixzeCBeHJI",
        "outputId": "0bacea27-2d44-43ef-973c-f1d383617c9e"
      },
      "execution_count": 5,
      "outputs": [
        {
          "output_type": "stream",
          "name": "stdout",
          "text": [
            "Dataset URL: https://www.kaggle.com/datasets/alessiocorrado99/animals10\n",
            "License(s): GPL-2.0\n",
            "animals10.zip: Skipping, found more recently modified local copy (use --force to force download)\n"
          ]
        }
      ]
    },
    {
      "cell_type": "markdown",
      "source": [
        "*Generar ruta de descarga y descompresión*"
      ],
      "metadata": {
        "id": "cL0kuNzWeLw4"
      }
    },
    {
      "cell_type": "code",
      "source": [
        "zip_file_path = '/content/animals10.zip'\n",
        "extracted_folder_path = '/content/Animals10'"
      ],
      "metadata": {
        "id": "6sEV4njnePfh"
      },
      "execution_count": 6,
      "outputs": []
    },
    {
      "cell_type": "markdown",
      "source": [
        "*Descomprimir el archivo*"
      ],
      "metadata": {
        "id": "BZEMTEEPeWVA"
      }
    },
    {
      "cell_type": "code",
      "source": [
        "import zipfile\n",
        "with zipfile.ZipFile(zip_file_path, 'r') as zip_ref:\n",
        "    zip_ref.extractall(extracted_folder_path)\n",
        "print(f\"Dataset descomprimido en: {extracted_folder_path}\")"
      ],
      "metadata": {
        "colab": {
          "base_uri": "https://localhost:8080/"
        },
        "id": "95pp8Bd1eYew",
        "outputId": "2a47b9b5-dfb0-4e00-edd8-0273861a98a3"
      },
      "execution_count": 7,
      "outputs": [
        {
          "output_type": "stream",
          "name": "stdout",
          "text": [
            "Dataset descomprimido en: /content/Animals10\n"
          ]
        }
      ]
    },
    {
      "cell_type": "markdown",
      "source": [
        "**Preprocesamiento**"
      ],
      "metadata": {
        "id": "jTa0zfaRoBEJ"
      }
    },
    {
      "cell_type": "markdown",
      "source": [
        "*Verificar resoluciones de imágenes.*"
      ],
      "metadata": {
        "id": "7CkdV8wBfbYQ"
      }
    },
    {
      "cell_type": "code",
      "source": [
        "\n",
        "# Variables\n",
        "resolution_counts = defaultdict(int)\n",
        "folder_count = 0\n",
        "image_count = 0\n",
        "resolutions = []\n",
        "base_path = '/content/Animals10/raw-img'\n",
        "# Recorrer las carpetas e imágenes\n",
        "for folder_name in os.listdir(base_path):\n",
        "    folder_path = os.path.join(base_path, folder_name)\n",
        "    if os.path.isdir(folder_path):  # ver si es una carpeta\n",
        "        folder_count += 1\n",
        "        for file_name in os.listdir(folder_path):\n",
        "            file_path = os.path.join(folder_path, file_name)\n",
        "            try:\n",
        "                img = cv2.imread(file_path)\n",
        "                if img is not None:\n",
        "                    image_count += 1\n",
        "                    resolution = img.shape[:2]\n",
        "                    resolutions.append(resolution)\n",
        "                    resolution_counts[resolution] += 1\n",
        "            except Exception as e:\n",
        "                print(f\"Error al procesar la imagen: {file_path}. Error: {e}\")\n",
        "\n",
        "# resolución más baja\n",
        "if resolutions:\n",
        "    min_resolution = min(resolutions, key=lambda x: x[0] * x[1])  # Resolución con menos píxeles\n",
        "else:\n",
        "    min_resolution = None\n",
        "\n",
        "# resultado\n",
        "print(f\"Carpetas recorridas: {folder_count}\")\n",
        "print(f\"Total de imágenes analizadas: {image_count}\")\n",
        "print(\"Resumen de resoluciones:\")\n",
        "for resolution, count in resolution_counts.items():\n",
        "    print(f\"Resolución {resolution}: {count} imágenes\")\n",
        "\n",
        "if min_resolution:\n",
        "    print(f\"\\nResolución más baja: {min_resolution} (Total píxeles: {min_resolution[0] * min_resolution[1]})\")\n",
        "else:\n",
        "    print(\"\\nNo se encontraron imágenes.\")\n",
        "\n",
        "print(f\"\\nTotal de resoluciones únicas: {len(resolution_counts)}\")\n"
      ],
      "metadata": {
        "colab": {
          "base_uri": "https://localhost:8080/"
        },
        "id": "VhMo8kxCxXEZ",
        "outputId": "4c8c56a4-d09d-4189-a40d-709652729904"
      },
      "execution_count": 16,
      "outputs": [
        {
          "output_type": "stream",
          "name": "stdout",
          "text": [
            "Carpetas recorridas: 10\n",
            "Total de imágenes analizadas: 26179\n",
            "Resumen de resoluciones:\n",
            "Resolución (225, 300): 4397 imágenes\n",
            "Resolución (640, 500): 1 imágenes\n",
            "Resolución (198, 300): 63 imágenes\n",
            "Resolución (300, 300): 1192 imágenes\n",
            "Resolución (426, 640): 694 imágenes\n",
            "Resolución (221, 300): 299 imágenes\n",
            "Resolución (209, 300): 111 imágenes\n",
            "Resolución (223, 300): 104 imágenes\n",
            "Resolución (199, 300): 586 imágenes\n",
            "Resolución (251, 300): 90 imágenes\n",
            "Resolución (428, 640): 53 imágenes\n",
            "Resolución (201, 300): 288 imágenes\n",
            "Resolución (200, 300): 3281 imágenes\n",
            "Resolución (300, 282): 57 imágenes\n",
            "Resolución (222, 300): 71 imágenes\n",
            "Resolución (300, 257): 14 imágenes\n",
            "Resolución (483, 640): 2 imágenes\n",
            "Resolución (255, 300): 48 imágenes\n",
            "Resolución (217, 300): 67 imágenes\n",
            "Resolución (194, 270): 44 imágenes\n",
            "Resolución (188, 300): 393 imágenes\n",
            "Resolución (219, 300): 118 imágenes\n",
            "Resolución (415, 640): 6 imágenes\n",
            "Resolución (228, 300): 111 imágenes\n",
            "Resolución (630, 640): 1 imágenes\n",
            "Resolución (207, 300): 99 imágenes\n",
            "Resolución (296, 300): 20 imágenes\n",
            "Resolución (208, 300): 66 imágenes\n",
            "Resolución (640, 480): 22 imágenes\n",
            "Resolución (194, 300): 71 imágenes\n",
            "Resolución (224, 300): 110 imágenes\n",
            "Resolución (347, 640): 2 imágenes\n",
            "Resolución (300, 226): 110 imágenes\n",
            "Resolución (394, 640): 6 imágenes\n",
            "Resolución (171, 300): 30 imágenes\n",
            "Resolución (300, 239): 32 imágenes\n",
            "Resolución (431, 640): 4 imágenes\n",
            "Resolución (300, 284): 27 imágenes\n",
            "Resolución (286, 300): 27 imágenes\n",
            "Resolución (253, 300): 38 imágenes\n",
            "Resolución (480, 640): 118 imágenes\n",
            "Resolución (239, 300): 50 imágenes\n",
            "Resolución (300, 261): 17 imágenes\n",
            "Resolución (413, 640): 5 imágenes\n",
            "Resolución (213, 300): 126 imágenes\n",
            "Resolución (285, 300): 37 imágenes\n",
            "Resolución (111, 300): 6 imágenes\n",
            "Resolución (105, 300): 2 imágenes\n",
            "Resolución (425, 640): 81 imágenes\n",
            "Resolución (300, 256): 14 imágenes\n",
            "Resolución (300, 288): 32 imágenes\n",
            "Resolución (395, 640): 3 imágenes\n",
            "Resolución (231, 300): 57 imágenes\n",
            "Resolución (168, 300): 98 imágenes\n",
            "Resolución (427, 640): 57 imágenes\n",
            "Resolución (203, 300): 53 imágenes\n",
            "Resolución (261, 300): 60 imágenes\n",
            "Resolución (247, 300): 67 imágenes\n",
            "Resolución (240, 300): 403 imágenes\n",
            "Resolución (640, 640): 30 imágenes\n",
            "Resolución (169, 300): 1048 imágenes\n",
            "Resolución (195, 300): 84 imágenes\n",
            "Resolución (423, 640): 47 imágenes\n",
            "Resolución (246, 300): 50 imágenes\n",
            "Resolución (230, 300): 107 imágenes\n",
            "Resolución (300, 254): 34 imágenes\n",
            "Resolución (300, 200): 362 imágenes\n",
            "Resolución (300, 250): 22 imágenes\n",
            "Resolución (184, 300): 31 imágenes\n",
            "Resolución (210, 300): 129 imágenes\n",
            "Resolución (456, 640): 1 imágenes\n",
            "Resolución (300, 295): 16 imágenes\n",
            "Resolución (202, 300): 167 imágenes\n",
            "Resolución (249, 300): 68 imágenes\n",
            "Resolución (238, 300): 72 imágenes\n",
            "Resolución (271, 300): 52 imágenes\n",
            "Resolución (359, 640): 25 imágenes\n",
            "Resolución (412, 640): 6 imágenes\n",
            "Resolución (300, 144): 2 imágenes\n",
            "Resolución (360, 640): 67 imágenes\n",
            "Resolución (300, 213): 32 imágenes\n",
            "Resolución (220, 300): 119 imágenes\n",
            "Resolución (216, 300): 104 imágenes\n",
            "Resolución (336, 640): 3 imágenes\n",
            "Resolución (229, 300): 64 imágenes\n",
            "Resolución (421, 640): 5 imágenes\n",
            "Resolución (234, 300): 49 imágenes\n",
            "Resolución (300, 208): 15 imágenes\n",
            "Resolución (226, 300): 240 imágenes\n",
            "Resolución (205, 300): 53 imágenes\n",
            "Resolución (444, 640): 5 imágenes\n",
            "Resolución (300, 225): 490 imágenes\n",
            "Resolución (176, 300): 31 imágenes\n",
            "Resolución (195, 260): 4 imágenes\n",
            "Resolución (300, 299): 34 imágenes\n",
            "Resolución (194, 269): 19 imágenes\n",
            "Resolución (267, 300): 67 imágenes\n",
            "Resolución (297, 300): 30 imágenes\n",
            "Resolución (391, 640): 3 imágenes\n",
            "Resolución (204, 300): 95 imágenes\n",
            "Resolución (300, 215): 21 imágenes\n",
            "Resolución (378, 640): 4 imágenes\n",
            "Resolución (241, 300): 47 imágenes\n",
            "Resolución (260, 300): 34 imágenes\n",
            "Resolución (284, 300): 21 imágenes\n",
            "Resolución (316, 640): 4 imágenes\n",
            "Resolución (262, 300): 29 imágenes\n",
            "Resolución (237, 300): 83 imágenes\n",
            "Resolución (287, 300): 40 imágenes\n",
            "Resolución (300, 217): 19 imágenes\n",
            "Resolución (300, 258): 28 imágenes\n",
            "Resolución (469, 640): 4 imágenes\n",
            "Resolución (300, 260): 43 imágenes\n",
            "Resolución (179, 300): 15 imágenes\n",
            "Resolución (206, 300): 109 imágenes\n",
            "Resolución (300, 263): 27 imágenes\n",
            "Resolución (451, 640): 7 imágenes\n",
            "Resolución (419, 640): 3 imágenes\n",
            "Resolución (277, 224): 1 imágenes\n",
            "Resolución (433, 640): 6 imágenes\n",
            "Resolución (399, 640): 8 imágenes\n",
            "Resolución (242, 300): 61 imágenes\n",
            "Resolución (299, 300): 46 imágenes\n",
            "Resolución (300, 255): 19 imágenes\n",
            "Resolución (300, 243): 19 imágenes\n",
            "Resolución (183, 300): 42 imágenes\n",
            "Resolución (300, 286): 8 imágenes\n",
            "Resolución (300, 241): 61 imágenes\n",
            "Resolución (300, 297): 40 imágenes\n",
            "Resolución (640, 387): 1 imágenes\n",
            "Resolución (254, 300): 63 imágenes\n",
            "Resolución (300, 180): 25 imágenes\n",
            "Resolución (291, 300): 25 imágenes\n",
            "Resolución (235, 300): 104 imágenes\n",
            "Resolución (290, 300): 38 imágenes\n",
            "Resolución (212, 300): 89 imágenes\n",
            "Resolución (300, 229): 25 imágenes\n",
            "Resolución (276, 300): 42 imágenes\n",
            "Resolución (420, 640): 3 imágenes\n",
            "Resolución (640, 615): 1 imágenes\n",
            "Resolución (120, 300): 3 imágenes\n",
            "Resolución (293, 300): 19 imágenes\n",
            "Resolución (416, 640): 4 imágenes\n",
            "Resolución (562, 640): 2 imágenes\n",
            "Resolución (432, 640): 5 imágenes\n",
            "Resolución (397, 640): 3 imágenes\n",
            "Resolución (189, 300): 23 imágenes\n",
            "Resolución (385, 640): 3 imágenes\n",
            "Resolución (197, 300): 108 imágenes\n",
            "Resolución (192, 300): 62 imágenes\n",
            "Resolución (164, 225): 1 imágenes\n",
            "Resolución (215, 300): 82 imágenes\n",
            "Resolución (264, 300): 67 imágenes\n",
            "Resolución (601, 640): 2 imágenes\n",
            "Resolución (379, 640): 3 imágenes\n",
            "Resolución (300, 199): 32 imágenes\n",
            "Resolución (300, 268): 17 imágenes\n",
            "Resolución (300, 201): 133 imágenes\n",
            "Resolución (217, 287): 2 imágenes\n",
            "Resolución (300, 169): 108 imágenes\n",
            "Resolución (366, 640): 4 imágenes\n",
            "Resolución (375, 640): 3 imágenes\n",
            "Resolución (292, 300): 33 imágenes\n",
            "Resolución (300, 211): 25 imágenes\n",
            "Resolución (263, 300): 79 imágenes\n",
            "Resolución (232, 300): 99 imágenes\n",
            "Resolución (268, 300): 46 imágenes\n",
            "Resolución (479, 640): 14 imágenes\n",
            "Resolución (414, 640): 2 imágenes\n",
            "Resolución (424, 640): 19 imágenes\n",
            "Resolución (300, 220): 29 imágenes\n",
            "Resolución (185, 300): 63 imágenes\n",
            "Resolución (194, 179): 1 imágenes\n",
            "Resolución (236, 300): 58 imágenes\n",
            "Resolución (275, 300): 38 imágenes\n",
            "Resolución (510, 640): 3 imágenes\n",
            "Resolución (214, 300): 239 imágenes\n",
            "Resolución (150, 300): 67 imágenes\n",
            "Resolución (129, 300): 5 imágenes\n",
            "Resolución (180, 300): 89 imágenes\n",
            "Resolución (407, 640): 5 imágenes\n",
            "Resolución (245, 300): 71 imágenes\n",
            "Resolución (194, 271): 20 imágenes\n",
            "Resolución (512, 640): 11 imágenes\n",
            "Resolución (410, 640): 3 imágenes\n",
            "Resolución (278, 300): 43 imágenes\n",
            "Resolución (300, 221): 35 imágenes\n",
            "Resolución (355, 640): 1 imágenes\n",
            "Resolución (160, 219): 1 imágenes\n",
            "Resolución (640, 479): 1 imágenes\n",
            "Resolución (191, 300): 21 imágenes\n",
            "Resolución (640, 469): 1 imágenes\n",
            "Resolución (388, 640): 6 imágenes\n",
            "Resolución (640, 425): 8 imágenes\n",
            "Resolución (282, 300): 34 imágenes\n",
            "Resolución (252, 300): 64 imágenes\n",
            "Resolución (300, 205): 16 imágenes\n",
            "Resolución (405, 640): 3 imágenes\n",
            "Resolución (154, 300): 12 imágenes\n",
            "Resolución (577, 640): 1 imágenes\n",
            "Resolución (244, 300): 62 imágenes\n",
            "Resolución (277, 300): 18 imágenes\n",
            "Resolución (487, 640): 2 imágenes\n",
            "Resolución (211, 295): 5 imágenes\n",
            "Resolución (344, 640): 4 imágenes\n",
            "Resolución (300, 232): 20 imágenes\n",
            "Resolución (454, 640): 3 imágenes\n",
            "Resolución (468, 640): 3 imágenes\n",
            "Resolución (280, 300): 53 imágenes\n",
            "Resolución (300, 212): 23 imágenes\n",
            "Resolución (178, 300): 33 imágenes\n",
            "Resolución (163, 300): 19 imágenes\n",
            "Resolución (545, 640): 2 imágenes\n",
            "Resolución (640, 489): 3 imágenes\n",
            "Resolución (440, 640): 6 imágenes\n",
            "Resolución (300, 234): 32 imágenes\n",
            "Resolución (402, 640): 8 imágenes\n",
            "Resolución (300, 249): 13 imágenes\n",
            "Resolución (409, 640): 2 imágenes\n",
            "Resolución (300, 294): 28 imágenes\n",
            "Resolución (182, 300): 35 imágenes\n",
            "Resolución (475, 640): 4 imágenes\n",
            "Resolución (300, 259): 13 imágenes\n",
            "Resolución (300, 195): 9 imágenes\n",
            "Resolución (501, 640): 1 imágenes\n",
            "Resolución (149, 300): 17 imágenes\n",
            "Resolución (194, 277): 2 imágenes\n",
            "Resolución (640, 623): 1 imágenes\n",
            "Resolución (533, 640): 4 imágenes\n",
            "Resolución (161, 300): 21 imágenes\n",
            "Resolución (300, 218): 14 imágenes\n",
            "Resolución (121, 300): 5 imágenes\n",
            "Resolución (446, 640): 2 imágenes\n",
            "Resolución (167, 300): 18 imágenes\n",
            "Resolución (640, 426): 32 imágenes\n",
            "Resolución (386, 640): 3 imágenes\n",
            "Resolución (162, 300): 13 imágenes\n",
            "Resolución (447, 640): 6 imágenes\n",
            "Resolución (218, 300): 103 imágenes\n",
            "Resolución (464, 640): 3 imágenes\n",
            "Resolución (481, 640): 3 imágenes\n",
            "Resolución (300, 292): 24 imágenes\n",
            "Resolución (300, 222): 45 imágenes\n",
            "Resolución (137, 300): 7 imágenes\n",
            "Resolución (300, 228): 25 imágenes\n",
            "Resolución (181, 300): 15 imágenes\n",
            "Resolución (376, 640): 4 imágenes\n",
            "Resolución (187, 300): 64 imágenes\n",
            "Resolución (160, 300): 14 imágenes\n",
            "Resolución (257, 300): 53 imágenes\n",
            "Resolución (279, 300): 24 imágenes\n",
            "Resolución (300, 252): 21 imágenes\n",
            "Resolución (250, 250): 17 imágenes\n",
            "Resolución (460, 640): 6 imágenes\n",
            "Resolución (258, 300): 29 imágenes\n",
            "Resolución (300, 242): 35 imágenes\n",
            "Resolución (295, 300): 32 imágenes\n",
            "Resolución (227, 300): 44 imágenes\n",
            "Resolución (523, 640): 3 imágenes\n",
            "Resolución (404, 640): 5 imágenes\n",
            "Resolución (640, 415): 1 imágenes\n",
            "Resolución (190, 300): 74 imágenes\n",
            "Resolución (157, 300): 81 imágenes\n",
            "Resolución (300, 253): 14 imágenes\n",
            "Resolución (300, 210): 16 imágenes\n",
            "Resolución (457, 640): 6 imágenes\n",
            "Resolución (640, 471): 1 imágenes\n",
            "Resolución (546, 640): 3 imágenes\n",
            "Resolución (289, 300): 23 imágenes\n",
            "Resolución (581, 640): 2 imágenes\n",
            "Resolución (442, 640): 6 imágenes\n",
            "Resolución (300, 170): 14 imágenes\n",
            "Resolución (470, 640): 2 imágenes\n",
            "Resolución (459, 640): 3 imágenes\n",
            "Resolución (300, 281): 17 imágenes\n",
            "Resolución (640, 427): 4 imágenes\n",
            "Resolución (496, 640): 3 imágenes\n",
            "Resolución (382, 640): 1 imágenes\n",
            "Resolución (400, 640): 10 imágenes\n",
            "Resolución (194, 235): 1 imágenes\n",
            "Resolución (300, 276): 28 imágenes\n",
            "Resolución (439, 640): 5 imágenes\n",
            "Resolución (346, 640): 2 imágenes\n",
            "Resolución (300, 209): 16 imágenes\n",
            "Resolución (248, 300): 38 imágenes\n",
            "Resolución (422, 640): 8 imágenes\n",
            "Resolución (194, 272): 2 imágenes\n",
            "Resolución (519, 640): 1 imágenes\n",
            "Resolución (166, 300): 28 imágenes\n",
            "Resolución (511, 640): 2 imágenes\n",
            "Resolución (471, 640): 2 imágenes\n",
            "Resolución (300, 191): 6 imágenes\n",
            "Resolución (300, 266): 15 imágenes\n",
            "Resolución (300, 251): 23 imágenes\n",
            "Resolución (175, 300): 32 imágenes\n",
            "Resolución (300, 237): 24 imágenes\n",
            "Resolución (300, 247): 30 imágenes\n",
            "Resolución (300, 285): 21 imágenes\n",
            "Resolución (193, 300): 41 imágenes\n",
            "Resolución (640, 424): 4 imágenes\n",
            "Resolución (200, 200): 9 imágenes\n",
            "Resolución (369, 640): 1 imágenes\n",
            "Resolución (298, 300): 19 imágenes\n",
            "Resolución (329, 640): 1 imágenes\n",
            "Resolución (111, 102): 1 imágenes\n",
            "Resolución (165, 300): 17 imágenes\n",
            "Resolución (250, 300): 33 imágenes\n",
            "Resolución (472, 640): 5 imágenes\n",
            "Resolución (206, 240): 1 imágenes\n",
            "Resolución (640, 428): 4 imágenes\n",
            "Resolución (342, 640): 1 imágenes\n",
            "Resolución (640, 461): 1 imágenes\n",
            "Resolución (300, 245): 18 imágenes\n",
            "Resolución (300, 278): 29 imágenes\n",
            "Resolución (403, 640): 4 imágenes\n",
            "Resolución (233, 300): 95 imágenes\n",
            "Resolución (565, 640): 1 imágenes\n",
            "Resolución (300, 223): 22 imágenes\n",
            "Resolución (300, 216): 12 imágenes\n",
            "Resolución (393, 640): 1 imágenes\n",
            "Resolución (273, 300): 51 imágenes\n",
            "Resolución (196, 300): 52 imágenes\n",
            "Resolución (144, 300): 9 imágenes\n",
            "Resolución (392, 640): 4 imágenes\n",
            "Resolución (377, 640): 3 imágenes\n",
            "Resolución (274, 300): 31 imágenes\n",
            "Resolución (351, 640): 2 imágenes\n",
            "Resolución (450, 640): 1 imágenes\n",
            "Resolución (211, 300): 93 imágenes\n",
            "Resolución (266, 300): 49 imágenes\n",
            "Resolución (300, 193): 32 imágenes\n",
            "Resolución (500, 640): 2 imágenes\n",
            "Resolución (436, 640): 6 imágenes\n",
            "Resolución (269, 300): 31 imágenes\n",
            "Resolución (159, 300): 23 imágenes\n",
            "Resolución (281, 300): 21 imágenes\n",
            "Resolución (300, 296): 38 imágenes\n",
            "Resolución (640, 513): 1 imágenes\n",
            "Resolución (300, 198): 13 imágenes\n",
            "Resolución (300, 196): 15 imágenes\n",
            "Resolución (300, 197): 9 imágenes\n",
            "Resolución (300, 272): 26 imágenes\n",
            "Resolución (406, 640): 2 imágenes\n",
            "Resolución (539, 640): 2 imágenes\n",
            "Resolución (300, 202): 28 imágenes\n",
            "Resolución (524, 640): 1 imágenes\n",
            "Resolución (300, 269): 20 imágenes\n",
            "Resolución (640, 470): 2 imágenes\n",
            "Resolución (348, 640): 1 imágenes\n",
            "Resolución (368, 640): 3 imágenes\n",
            "Resolución (195, 240): 8 imágenes\n",
            "Resolución (365, 640): 3 imágenes\n",
            "Resolución (64, 65): 1 imágenes\n",
            "Resolución (145, 300): 15 imágenes\n",
            "Resolución (300, 271): 24 imágenes\n",
            "Resolución (445, 640): 3 imágenes\n",
            "Resolución (128, 300): 9 imágenes\n",
            "Resolución (381, 640): 2 imágenes\n",
            "Resolución (331, 640): 1 imágenes\n",
            "Resolución (194, 257): 1 imágenes\n",
            "Resolución (156, 300): 14 imágenes\n",
            "Resolución (300, 214): 19 imágenes\n",
            "Resolución (300, 290): 27 imágenes\n",
            "Resolución (320, 640): 3 imágenes\n",
            "Resolución (527, 640): 1 imágenes\n",
            "Resolución (263, 237): 2 imágenes\n",
            "Resolución (243, 300): 42 imágenes\n",
            "Resolución (300, 279): 34 imágenes\n",
            "Resolución (526, 640): 2 imágenes\n",
            "Resolución (256, 300): 65 imágenes\n",
            "Resolución (498, 640): 1 imágenes\n",
            "Resolución (164, 300): 39 imágenes\n",
            "Resolución (211, 296): 1 imágenes\n",
            "Resolución (142, 300): 39 imágenes\n",
            "Resolución (174, 300): 11 imágenes\n",
            "Resolución (173, 300): 24 imágenes\n",
            "Resolución (147, 300): 9 imágenes\n",
            "Resolución (188, 250): 2 imágenes\n",
            "Resolución (300, 277): 23 imágenes\n",
            "Resolución (135, 300): 5 imágenes\n",
            "Resolución (138, 300): 10 imágenes\n",
            "Resolución (186, 300): 26 imágenes\n",
            "Resolución (216, 288): 37 imágenes\n",
            "Resolución (160, 240): 10 imágenes\n",
            "Resolución (194, 248): 2 imágenes\n",
            "Resolución (293, 213): 2 imágenes\n",
            "Resolución (133, 300): 4 imágenes\n",
            "Resolución (114, 300): 7 imágenes\n",
            "Resolución (300, 238): 15 imágenes\n",
            "Resolución (141, 300): 9 imágenes\n",
            "Resolución (270, 300): 23 imágenes\n",
            "Resolución (150, 200): 2 imágenes\n",
            "Resolución (132, 300): 11 imágenes\n",
            "Resolución (86, 300): 1 imágenes\n",
            "Resolución (170, 300): 17 imágenes\n",
            "Resolución (300, 267): 16 imágenes\n",
            "Resolución (300, 287): 31 imágenes\n",
            "Resolución (130, 300): 4 imágenes\n",
            "Resolución (177, 300): 41 imágenes\n",
            "Resolución (106, 300): 2 imágenes\n",
            "Resolución (194, 225): 1 imágenes\n",
            "Resolución (131, 300): 4 imágenes\n",
            "Resolución (158, 300): 17 imágenes\n",
            "Resolución (300, 291): 32 imágenes\n",
            "Resolución (204, 250): 2 imágenes\n",
            "Resolución (139, 300): 6 imágenes\n",
            "Resolución (153, 300): 6 imágenes\n",
            "Resolución (300, 206): 11 imágenes\n",
            "Resolución (300, 233): 13 imágenes\n",
            "Resolución (221, 282): 1 imágenes\n",
            "Resolución (177, 236): 2 imágenes\n",
            "Resolución (217, 275): 1 imágenes\n",
            "Resolución (151, 300): 4 imágenes\n",
            "Resolución (300, 236): 25 imágenes\n",
            "Resolución (119, 300): 17 imágenes\n",
            "Resolución (194, 213): 2 imágenes\n",
            "Resolución (300, 273): 25 imágenes\n",
            "Resolución (229, 272): 1 imágenes\n",
            "Resolución (300, 192): 16 imágenes\n",
            "Resolución (194, 284): 1 imágenes\n",
            "Resolución (104, 300): 2 imágenes\n",
            "Resolución (100, 300): 5 imágenes\n",
            "Resolución (300, 246): 15 imágenes\n",
            "Resolución (180, 150): 1 imágenes\n",
            "Resolución (288, 300): 27 imágenes\n",
            "Resolución (180, 180): 5 imágenes\n",
            "Resolución (183, 276): 2 imágenes\n",
            "Resolución (187, 250): 3 imágenes\n",
            "Resolución (146, 300): 6 imágenes\n",
            "Resolución (90, 120): 5 imágenes\n",
            "Resolución (194, 259): 4 imágenes\n",
            "Resolución (136, 300): 3 imágenes\n",
            "Resolución (99, 300): 1 imágenes\n",
            "Resolución (178, 267): 1 imágenes\n",
            "Resolución (143, 300): 4 imágenes\n",
            "Resolución (148, 300): 4 imágenes\n",
            "Resolución (202, 250): 2 imágenes\n",
            "Resolución (267, 250): 1 imágenes\n",
            "Resolución (110, 300): 2 imágenes\n",
            "Resolución (300, 293): 18 imágenes\n",
            "Resolución (223, 279): 3 imágenes\n",
            "Resolución (108, 152): 1 imágenes\n",
            "Resolución (218, 286): 2 imágenes\n",
            "Resolución (179, 185): 1 imágenes\n",
            "Resolución (300, 283): 38 imágenes\n",
            "Resolución (288, 216): 10 imágenes\n",
            "Resolución (240, 240): 2 imágenes\n",
            "Resolución (107, 300): 4 imágenes\n",
            "Resolución (155, 220): 1 imágenes\n",
            "Resolución (300, 264): 15 imágenes\n",
            "Resolución (300, 230): 14 imágenes\n",
            "Resolución (194, 252): 1 imágenes\n",
            "Resolución (132, 199): 3 imágenes\n",
            "Resolución (172, 230): 1 imágenes\n",
            "Resolución (203, 270): 1 imágenes\n",
            "Resolución (418, 640): 6 imágenes\n",
            "Resolución (122, 300): 2 imágenes\n",
            "Resolución (640, 637): 1 imágenes\n",
            "Resolución (210, 236): 2 imágenes\n",
            "Resolución (494, 640): 4 imágenes\n",
            "Resolución (640, 569): 1 imágenes\n",
            "Resolución (485, 640): 4 imágenes\n",
            "Resolución (371, 640): 1 imágenes\n",
            "Resolución (300, 274): 25 imágenes\n",
            "Resolución (482, 640): 4 imágenes\n",
            "Resolución (259, 300): 51 imágenes\n",
            "Resolución (417, 640): 7 imágenes\n",
            "Resolución (330, 640): 2 imágenes\n",
            "Resolución (124, 300): 1 imágenes\n",
            "Resolución (194, 264): 1 imágenes\n",
            "Resolución (429, 640): 6 imágenes\n",
            "Resolución (640, 433): 1 imágenes\n",
            "Resolución (179, 236): 2 imágenes\n",
            "Resolución (210, 147): 1 imágenes\n",
            "Resolución (492, 640): 3 imágenes\n",
            "Resolución (640, 382): 1 imágenes\n",
            "Resolución (476, 640): 3 imágenes\n",
            "Resolución (197, 298): 1 imágenes\n",
            "Resolución (502, 640): 2 imágenes\n",
            "Resolución (542, 640): 1 imágenes\n",
            "Resolución (112, 300): 1 imágenes\n",
            "Resolución (536, 640): 2 imágenes\n",
            "Resolución (184, 236): 1 imágenes\n",
            "Resolución (240, 160): 2 imágenes\n",
            "Resolución (640, 360): 2 imágenes\n",
            "Resolución (257, 242): 1 imágenes\n",
            "Resolución (383, 640): 3 imágenes\n",
            "Resolución (530, 640): 2 imágenes\n",
            "Resolución (499, 640): 2 imágenes\n",
            "Resolución (120, 160): 1 imágenes\n",
            "Resolución (225, 277): 3 imágenes\n",
            "Resolución (272, 300): 22 imágenes\n",
            "Resolución (373, 640): 2 imágenes\n",
            "Resolución (218, 287): 1 imágenes\n",
            "Resolución (294, 300): 38 imágenes\n",
            "Resolución (341, 640): 3 imágenes\n",
            "Resolución (339, 640): 2 imágenes\n",
            "Resolución (220, 200): 1 imágenes\n",
            "Resolución (194, 240): 2 imágenes\n",
            "Resolución (434, 640): 4 imágenes\n",
            "Resolución (430, 640): 2 imágenes\n",
            "Resolución (300, 280): 13 imágenes\n",
            "Resolución (213, 293): 1 imágenes\n",
            "Resolución (218, 288): 1 imágenes\n",
            "Resolución (547, 640): 1 imágenes\n",
            "Resolución (164, 220): 1 imágenes\n",
            "Resolución (97, 300): 2 imágenes\n",
            "Resolución (165, 236): 1 imágenes\n",
            "Resolución (497, 640): 2 imágenes\n",
            "Resolución (640, 598): 1 imágenes\n",
            "Resolución (187, 153): 1 imágenes\n",
            "Resolución (293, 250): 1 imágenes\n",
            "Resolución (640, 407): 1 imágenes\n",
            "Resolución (328, 640): 1 imágenes\n",
            "Resolución (437, 640): 5 imágenes\n",
            "Resolución (435, 640): 1 imágenes\n",
            "Resolución (455, 640): 4 imágenes\n",
            "Resolución (300, 207): 21 imágenes\n",
            "Resolución (389, 640): 2 imágenes\n",
            "Resolución (264, 640): 1 imágenes\n",
            "Resolución (301, 640): 1 imágenes\n",
            "Resolución (115, 300): 3 imágenes\n",
            "Resolución (640, 593): 1 imágenes\n",
            "Resolución (165, 220): 13 imágenes\n",
            "Resolución (300, 204): 16 imágenes\n",
            "Resolución (640, 611): 1 imágenes\n",
            "Resolución (152, 202): 1 imágenes\n",
            "Resolución (195, 270): 1 imágenes\n",
            "Resolución (134, 300): 5 imágenes\n",
            "Resolución (168, 239): 1 imágenes\n",
            "Resolución (566, 640): 1 imágenes\n",
            "Resolución (284, 640): 1 imágenes\n",
            "Resolución (210, 208): 1 imágenes\n",
            "Resolución (71, 300): 1 imágenes\n",
            "Resolución (108, 300): 1 imágenes\n",
            "Resolución (157, 236): 1 imágenes\n",
            "Resolución (160, 107): 2 imágenes\n",
            "Resolución (300, 224): 25 imágenes\n",
            "Resolución (156, 220): 1 imágenes\n",
            "Resolución (640, 635): 1 imágenes\n",
            "Resolución (505, 640): 1 imágenes\n",
            "Resolución (300, 298): 13 imágenes\n",
            "Resolución (370, 640): 2 imágenes\n",
            "Resolución (250, 296): 1 imágenes\n",
            "Resolución (490, 640): 4 imágenes\n",
            "Resolución (640, 417): 1 imágenes\n",
            "Resolución (172, 300): 8 imágenes\n",
            "Resolución (443, 640): 1 imágenes\n",
            "Resolución (349, 640): 2 imágenes\n",
            "Resolución (553, 640): 1 imágenes\n",
            "Resolución (609, 640): 1 imágenes\n",
            "Resolución (325, 640): 1 imágenes\n",
            "Resolución (640, 594): 1 imágenes\n",
            "Resolución (363, 640): 1 imágenes\n",
            "Resolución (313, 640): 1 imágenes\n",
            "Resolución (152, 300): 10 imágenes\n",
            "Resolución (300, 244): 21 imágenes\n",
            "Resolución (140, 300): 8 imágenes\n",
            "Resolución (462, 640): 5 imágenes\n",
            "Resolución (640, 462): 1 imágenes\n",
            "Resolución (217, 640): 1 imágenes\n",
            "Resolución (200, 266): 1 imágenes\n",
            "Resolución (640, 369): 1 imágenes\n",
            "Resolución (493, 640): 3 imágenes\n",
            "Resolución (300, 189): 7 imágenes\n",
            "Resolución (300, 270): 25 imágenes\n",
            "Resolución (335, 640): 2 imágenes\n",
            "Resolución (463, 640): 1 imágenes\n",
            "Resolución (125, 300): 2 imágenes\n",
            "Resolución (640, 483): 1 imágenes\n",
            "Resolución (384, 640): 3 imágenes\n",
            "Resolución (640, 452): 1 imágenes\n",
            "Resolución (220, 193): 1 imágenes\n",
            "Resolución (640, 359): 2 imágenes\n",
            "Resolución (401, 640): 2 imágenes\n",
            "Resolución (300, 265): 16 imágenes\n",
            "Resolución (640, 468): 1 imágenes\n",
            "Resolución (277, 640): 1 imágenes\n",
            "Resolución (143, 212): 1 imágenes\n",
            "Resolución (300, 219): 21 imágenes\n",
            "Resolución (438, 640): 6 imágenes\n",
            "Resolución (465, 640): 2 imágenes\n",
            "Resolución (516, 640): 1 imágenes\n",
            "Resolución (489, 640): 3 imágenes\n",
            "Resolución (623, 640): 1 imágenes\n",
            "Resolución (640, 431): 2 imágenes\n",
            "Resolución (466, 640): 5 imágenes\n",
            "Resolución (367, 640): 1 imágenes\n",
            "Resolución (194, 285): 1 imágenes\n",
            "Resolución (300, 262): 16 imágenes\n",
            "Resolución (283, 300): 59 imágenes\n",
            "Resolución (640, 410): 1 imágenes\n",
            "Resolución (300, 227): 20 imágenes\n",
            "Resolución (127, 300): 1 imágenes\n",
            "Resolución (578, 640): 2 imágenes\n",
            "Resolución (640, 524): 1 imágenes\n",
            "Resolución (477, 640): 2 imágenes\n",
            "Resolución (194, 230): 1 imágenes\n",
            "Resolución (358, 640): 2 imágenes\n",
            "Resolución (194, 280): 1 imágenes\n",
            "Resolución (194, 250): 1 imágenes\n",
            "Resolución (214, 282): 1 imágenes\n",
            "Resolución (205, 246): 1 imágenes\n",
            "Resolución (168, 230): 1 imágenes\n",
            "Resolución (272, 272): 1 imágenes\n",
            "Resolución (165, 200): 1 imágenes\n",
            "Resolución (147, 220): 2 imágenes\n",
            "Resolución (194, 276): 3 imágenes\n",
            "Resolución (179, 270): 1 imágenes\n",
            "Resolución (300, 161): 5 imágenes\n",
            "Resolución (194, 239): 1 imágenes\n",
            "Resolución (261, 259): 1 imágenes\n",
            "Resolución (300, 174): 2 imágenes\n",
            "Resolución (194, 258): 2 imágenes\n",
            "Resolución (300, 231): 23 imágenes\n",
            "Resolución (167, 171): 1 imágenes\n",
            "Resolución (248, 180): 1 imágenes\n",
            "Resolución (177, 230): 1 imágenes\n",
            "Resolución (260, 205): 1 imágenes\n",
            "Resolución (300, 167): 1 imágenes\n",
            "Resolución (300, 160): 2 imágenes\n",
            "Resolución (179, 153): 1 imágenes\n",
            "Resolución (300, 203): 14 imágenes\n",
            "Resolución (300, 127): 1 imágenes\n",
            "Resolución (213, 180): 1 imágenes\n",
            "Resolución (228, 273): 3 imágenes\n",
            "Resolución (154, 225): 1 imágenes\n",
            "Resolución (249, 249): 3 imágenes\n",
            "Resolución (214, 291): 3 imágenes\n",
            "Resolución (256, 192): 1 imágenes\n",
            "Resolución (194, 267): 1 imágenes\n",
            "Resolución (224, 188): 1 imágenes\n",
            "Resolución (152, 236): 1 imágenes\n",
            "Resolución (257, 263): 1 imágenes\n",
            "Resolución (300, 173): 3 imágenes\n",
            "Resolución (119, 137): 1 imágenes\n",
            "Resolución (206, 186): 1 imágenes\n",
            "Resolución (166, 280): 1 imágenes\n",
            "Resolución (300, 235): 11 imágenes\n",
            "Resolución (300, 168): 7 imágenes\n",
            "Resolución (270, 210): 1 imágenes\n",
            "Resolución (300, 188): 10 imágenes\n",
            "Resolución (300, 141): 1 imágenes\n",
            "Resolución (160, 213): 1 imágenes\n",
            "Resolución (244, 210): 1 imágenes\n",
            "Resolución (181, 290): 1 imágenes\n",
            "Resolución (300, 289): 11 imágenes\n",
            "Resolución (300, 179): 6 imágenes\n",
            "Resolución (206, 245): 1 imágenes\n",
            "Resolución (113, 300): 3 imágenes\n",
            "Resolución (205, 228): 1 imágenes\n",
            "Resolución (224, 225): 1 imágenes\n",
            "Resolución (180, 240): 8 imágenes\n",
            "Resolución (300, 150): 1 imágenes\n",
            "Resolución (300, 172): 1 imágenes\n",
            "Resolución (300, 186): 5 imágenes\n",
            "Resolución (300, 182): 4 imágenes\n",
            "Resolución (178, 283): 1 imágenes\n",
            "Resolución (289, 216): 1 imágenes\n",
            "Resolución (135, 180): 1 imágenes\n",
            "Resolución (175, 236): 1 imágenes\n",
            "Resolución (300, 240): 13 imágenes\n",
            "Resolución (139, 200): 1 imágenes\n",
            "Resolución (300, 190): 5 imágenes\n",
            "Resolución (254, 245): 1 imágenes\n",
            "Resolución (251, 248): 2 imágenes\n",
            "Resolución (227, 274): 1 imágenes\n",
            "Resolución (247, 236): 1 imágenes\n",
            "Resolución (267, 204): 2 imágenes\n",
            "Resolución (240, 268): 1 imágenes\n",
            "Resolución (290, 215): 2 imágenes\n",
            "Resolución (220, 229): 1 imágenes\n",
            "Resolución (237, 259): 1 imágenes\n",
            "Resolución (150, 150): 9 imágenes\n",
            "Resolución (275, 226): 2 imágenes\n",
            "Resolución (270, 270): 1 imágenes\n",
            "Resolución (270, 173): 1 imágenes\n",
            "Resolución (265, 300): 27 imágenes\n",
            "Resolución (153, 250): 1 imágenes\n",
            "Resolución (300, 183): 5 imágenes\n",
            "Resolución (166, 250): 2 imágenes\n",
            "Resolución (300, 248): 11 imágenes\n",
            "Resolución (300, 275): 6 imágenes\n",
            "Resolución (300, 138): 3 imágenes\n",
            "Resolución (150, 218): 1 imágenes\n",
            "Resolución (300, 194): 9 imágenes\n",
            "Resolución (102, 300): 1 imágenes\n",
            "Resolución (96, 82): 1 imágenes\n",
            "Resolución (226, 236): 1 imágenes\n",
            "Resolución (140, 210): 1 imágenes\n",
            "Resolución (253, 246): 2 imágenes\n",
            "Resolución (223, 150): 1 imágenes\n",
            "Resolución (192, 262): 1 imágenes\n",
            "Resolución (155, 300): 10 imágenes\n",
            "Resolución (95, 300): 1 imágenes\n",
            "Resolución (467, 640): 2 imágenes\n",
            "Resolución (597, 640): 1 imágenes\n",
            "Resolución (229, 240): 1 imágenes\n",
            "Resolución (200, 236): 1 imágenes\n",
            "Resolución (387, 640): 1 imágenes\n",
            "Resolución (235, 265): 2 imágenes\n",
            "Resolución (176, 220): 1 imágenes\n",
            "Resolución (640, 495): 1 imágenes\n",
            "Resolución (250, 249): 1 imágenes\n",
            "Resolución (179, 290): 1 imágenes\n",
            "Resolución (185, 220): 1 imágenes\n",
            "Resolución (216, 270): 1 imágenes\n",
            "Resolución (206, 280): 1 imágenes\n",
            "Resolución (640, 457): 1 imágenes\n",
            "Resolución (300, 184): 2 imágenes\n",
            "Resolución (300, 175): 2 imágenes\n",
            "Resolución (242, 257): 1 imágenes\n",
            "Resolución (593, 640): 1 imágenes\n",
            "Resolución (588, 640): 1 imágenes\n",
            "Resolución (182, 182): 1 imágenes\n",
            "Resolución (640, 474): 1 imágenes\n",
            "Resolución (278, 220): 1 imágenes\n",
            "Resolución (176, 240): 1 imágenes\n",
            "Resolución (561, 640): 2 imágenes\n",
            "Resolución (80, 120): 1 imágenes\n",
            "Resolución (640, 494): 1 imágenes\n",
            "Resolución (222, 281): 1 imágenes\n",
            "Resolución (209, 280): 1 imágenes\n",
            "Resolución (192, 240): 1 imágenes\n",
            "Resolución (181, 240): 2 imágenes\n",
            "Resolución (486, 640): 1 imágenes\n",
            "Resolución (184, 250): 1 imágenes\n",
            "Resolución (179, 250): 1 imágenes\n",
            "Resolución (177, 117): 1 imágenes\n",
            "Resolución (240, 209): 2 imágenes\n",
            "Resolución (216, 240): 1 imágenes\n",
            "Resolución (300, 185): 1 imágenes\n",
            "Resolución (251, 278): 1 imágenes\n",
            "Resolución (153, 220): 1 imágenes\n",
            "Resolución (259, 290): 1 imágenes\n",
            "Resolución (640, 501): 1 imágenes\n",
            "Resolución (248, 278): 2 imágenes\n",
            "Resolución (245, 220): 1 imágenes\n",
            "Resolución (352, 640): 2 imágenes\n",
            "Resolución (640, 418): 1 imágenes\n",
            "Resolución (126, 300): 6 imágenes\n",
            "Resolución (559, 640): 3 imágenes\n",
            "Resolución (640, 420): 1 imágenes\n",
            "Resolución (452, 640): 1 imágenes\n",
            "Resolución (640, 506): 2 imágenes\n",
            "Resolución (521, 640): 1 imágenes\n",
            "Resolución (203, 225): 1 imágenes\n",
            "Resolución (133, 160): 1 imágenes\n",
            "Resolución (300, 159): 2 imágenes\n",
            "Resolución (300, 166): 4 imágenes\n",
            "Resolución (155, 200): 1 imágenes\n",
            "Resolución (100, 200): 1 imágenes\n",
            "Resolución (599, 640): 2 imágenes\n",
            "Resolución (201, 220): 1 imágenes\n",
            "Resolución (640, 458): 1 imágenes\n",
            "Resolución (245, 245): 1 imágenes\n",
            "Resolución (156, 226): 1 imágenes\n",
            "Resolución (372, 640): 1 imágenes\n",
            "Resolución (198, 220): 1 imágenes\n",
            "Resolución (251, 220): 1 imágenes\n",
            "Resolución (555, 640): 1 imágenes\n",
            "Resolución (200, 250): 1 imágenes\n",
            "Resolución (219, 284): 2 imágenes\n",
            "Resolución (640, 597): 2 imágenes\n",
            "Resolución (123, 300): 1 imágenes\n",
            "Resolución (232, 268): 1 imágenes\n",
            "Resolución (269, 290): 1 imágenes\n",
            "Resolución (198, 235): 1 imágenes\n",
            "Resolución (300, 155): 3 imágenes\n",
            "Resolución (292, 280): 1 imágenes\n",
            "Resolución (231, 270): 1 imágenes\n",
            "Resolución (354, 640): 2 imágenes\n",
            "Resolución (203, 250): 1 imágenes\n",
            "Resolución (300, 178): 2 imágenes\n",
            "Resolución (504, 640): 1 imágenes\n",
            "Resolución (285, 219): 2 imágenes\n",
            "Resolución (300, 171): 2 imágenes\n",
            "Resolución (223, 290): 1 imágenes\n",
            "Resolución (390, 640): 2 imágenes\n",
            "Resolución (327, 640): 1 imágenes\n",
            "Resolución (300, 122): 1 imágenes\n",
            "Resolución (159, 240): 3 imágenes\n",
            "Resolución (300, 177): 4 imágenes\n",
            "Resolución (640, 539): 1 imágenes\n",
            "Resolución (353, 640): 1 imágenes\n",
            "Resolución (164, 240): 1 imágenes\n",
            "Resolución (218, 290): 1 imágenes\n",
            "Resolución (150, 290): 1 imágenes\n",
            "Resolución (640, 599): 1 imágenes\n",
            "Resolución (274, 290): 1 imágenes\n",
            "Resolución (323, 640): 1 imágenes\n",
            "Resolución (640, 449): 2 imágenes\n",
            "Resolución (120, 180): 1 imágenes\n",
            "Resolución (300, 88): 1 imágenes\n",
            "Resolución (212, 280): 1 imágenes\n",
            "Resolución (256, 243): 1 imágenes\n",
            "Resolución (190, 240): 2 imágenes\n",
            "Resolución (640, 440): 1 imágenes\n",
            "Resolución (248, 251): 1 imágenes\n",
            "Resolución (576, 640): 1 imágenes\n",
            "Resolución (640, 487): 1 imágenes\n",
            "Resolución (210, 280): 1 imágenes\n",
            "Resolución (478, 640): 3 imágenes\n",
            "Resolución (571, 640): 1 imágenes\n",
            "Resolución (208, 299): 1 imágenes\n",
            "Resolución (283, 220): 1 imágenes\n",
            "Resolución (213, 199): 1 imágenes\n",
            "Resolución (198, 275): 1 imágenes\n",
            "Resolución (211, 240): 1 imágenes\n",
            "Resolución (204, 240): 1 imágenes\n",
            "Resolución (172, 240): 1 imágenes\n",
            "Resolución (169, 200): 1 imágenes\n",
            "Resolución (249, 278): 1 imágenes\n",
            "Resolución (277, 220): 1 imágenes\n",
            "Resolución (300, 149): 2 imágenes\n",
            "Resolución (185, 230): 1 imágenes\n",
            "Resolución (356, 640): 2 imágenes\n",
            "Resolución (300, 176): 2 imágenes\n",
            "Resolución (180, 250): 1 imágenes\n",
            "Resolución (640, 558): 1 imágenes\n",
            "Resolución (168, 220): 1 imágenes\n",
            "Resolución (322, 640): 1 imágenes\n",
            "Resolución (287, 217): 1 imágenes\n",
            "Resolución (216, 265): 1 imágenes\n",
            "Resolución (259, 240): 1 imágenes\n",
            "Resolución (179, 249): 1 imágenes\n",
            "Resolución (345, 640): 1 imágenes\n",
            "Resolución (640, 391): 1 imágenes\n",
            "Resolución (289, 200): 1 imágenes\n",
            "Resolución (640, 392): 1 imágenes\n",
            "Resolución (300, 147): 1 imágenes\n",
            "Resolución (218, 285): 2 imágenes\n",
            "Resolución (640, 561): 1 imágenes\n",
            "Resolución (150, 220): 1 imágenes\n",
            "Resolución (180, 120): 1 imágenes\n",
            "Resolución (640, 634): 1 imágenes\n",
            "Resolución (270, 231): 1 imágenes\n",
            "Resolución (640, 447): 1 imágenes\n",
            "Resolución (186, 220): 1 imágenes\n",
            "Resolución (117, 300): 2 imágenes\n",
            "Resolución (209, 298): 1 imágenes\n",
            "Resolución (537, 640): 3 imágenes\n",
            "Resolución (300, 187): 3 imágenes\n",
            "Resolución (178, 134): 1 imágenes\n",
            "Resolución (275, 640): 1 imágenes\n",
            "Resolución (293, 212): 2 imágenes\n",
            "Resolución (513, 640): 3 imágenes\n",
            "Resolución (225, 290): 1 imágenes\n",
            "Resolución (177, 266): 1 imágenes\n",
            "Resolución (640, 466): 1 imágenes\n",
            "Resolución (295, 211): 1 imágenes\n",
            "Resolución (240, 194): 1 imágenes\n",
            "Resolución (509, 640): 2 imágenes\n",
            "Resolución (220, 220): 1 imágenes\n",
            "Resolución (168, 240): 2 imágenes\n",
            "Resolución (147, 219): 1 imágenes\n",
            "Resolución (217, 286): 1 imágenes\n",
            "Resolución (185, 200): 1 imágenes\n",
            "Resolución (277, 290): 1 imágenes\n",
            "Resolución (232, 269): 1 imágenes\n",
            "Resolución (240, 187): 1 imágenes\n",
            "Resolución (473, 640): 2 imágenes\n",
            "Resolución (200, 297): 1 imágenes\n",
            "Resolución (246, 287): 1 imágenes\n",
            "Resolución (57, 60): 5 imágenes\n",
            "Resolución (210, 291): 1 imágenes\n",
            "Resolución (195, 238): 1 imágenes\n",
            "Resolución (200, 272): 1 imágenes\n",
            "Resolución (104, 120): 1 imágenes\n",
            "Resolución (279, 223): 1 imágenes\n",
            "Resolución (269, 231): 1 imágenes\n",
            "Resolución (162, 220): 6 imágenes\n",
            "Resolución (264, 264): 1 imágenes\n",
            "Resolución (160, 160): 3 imágenes\n",
            "Resolución (156, 240): 2 imágenes\n",
            "Resolución (282, 282): 1 imágenes\n",
            "Resolución (141, 200): 1 imágenes\n",
            "Resolución (160, 284): 1 imágenes\n",
            "Resolución (223, 225): 1 imágenes\n",
            "Resolución (207, 288): 1 imágenes\n",
            "Resolución (190, 265): 1 imágenes\n",
            "Resolución (240, 156): 2 imágenes\n",
            "Resolución (240, 159): 2 imágenes\n",
            "Resolución (246, 253): 1 imágenes\n",
            "Resolución (238, 261): 1 imágenes\n",
            "Resolución (233, 267): 1 imágenes\n",
            "Resolución (223, 211): 1 imágenes\n",
            "Resolución (201, 230): 1 imágenes\n",
            "Resolución (158, 236): 1 imágenes\n",
            "Resolución (208, 240): 1 imágenes\n",
            "Resolución (194, 190): 1 imágenes\n",
            "Resolución (237, 262): 1 imágenes\n",
            "Resolución (216, 289): 1 imágenes\n",
            "Resolución (183, 275): 1 imágenes\n",
            "Resolución (408, 640): 1 imágenes\n",
            "Resolución (194, 279): 1 imágenes\n",
            "Resolución (3072, 4608): 1 imágenes\n",
            "Resolución (75, 120): 1 imágenes\n",
            "Resolución (640, 578): 1 imágenes\n",
            "Resolución (2667, 4000): 2 imágenes\n",
            "Resolución (396, 640): 1 imágenes\n",
            "Resolución (640, 560): 1 imágenes\n",
            "Resolución (640, 485): 1 imágenes\n",
            "Resolución (458, 640): 3 imágenes\n",
            "Resolución (315, 640): 1 imágenes\n",
            "Resolución (3456, 5184): 5 imágenes\n",
            "Resolución (3264, 4896): 1 imágenes\n",
            "Resolución (160, 241): 2 imágenes\n",
            "Resolución (2071, 3106): 1 imágenes\n",
            "Resolución (3264, 4928): 2 imágenes\n",
            "Resolución (92, 300): 1 imágenes\n",
            "Resolución (4000, 6016): 2 imágenes\n",
            "Resolución (557, 640): 1 imágenes\n",
            "Resolución (640, 535): 1 imágenes\n",
            "Resolución (640, 530): 1 imágenes\n",
            "Resolución (4000, 6000): 1 imágenes\n",
            "Resolución (2574, 3861): 1 imágenes\n",
            "Resolución (3648, 5472): 3 imágenes\n",
            "Resolución (634, 640): 1 imágenes\n",
            "Resolución (549, 640): 1 imágenes\n",
            "Resolución (508, 640): 1 imágenes\n",
            "Resolución (602, 640): 1 imágenes\n",
            "Resolución (640, 463): 1 imágenes\n",
            "Resolución (2287, 4288): 1 imágenes\n",
            "Resolución (295, 640): 1 imágenes\n",
            "Resolución (2582, 3560): 1 imágenes\n",
            "Resolución (640, 503): 1 imágenes\n",
            "Resolución (640, 605): 1 imágenes\n",
            "Resolución (488, 640): 1 imágenes\n",
            "Resolución (640, 520): 1 imágenes\n",
            "Resolución (3703, 5554): 1 imágenes\n",
            "Resolución (4272, 2848): 1 imágenes\n",
            "Resolución (2448, 3264): 1 imágenes\n",
            "Resolución (640, 567): 1 imágenes\n",
            "Resolución (448, 640): 2 imágenes\n",
            "Resolución (163, 195): 1 imágenes\n",
            "Resolución (640, 398): 1 imágenes\n",
            "Resolución (640, 627): 1 imágenes\n",
            "Resolución (96, 120): 1 imágenes\n",
            "Resolución (640, 550): 1 imágenes\n",
            "Resolución (194, 183): 1 imágenes\n",
            "Resolución (120, 120): 1 imágenes\n",
            "Resolución (2848, 4272): 5 imágenes\n",
            "Resolución (453, 640): 2 imágenes\n",
            "Resolución (113, 120): 1 imágenes\n",
            "Resolución (179, 191): 1 imágenes\n",
            "Resolución (640, 528): 1 imágenes\n",
            "Resolución (3000, 4512): 1 imágenes\n",
            "Resolución (640, 620): 1 imágenes\n",
            "Resolución (3679, 5518): 1 imágenes\n",
            "Resolución (3602, 5403): 1 imágenes\n",
            "Resolución (1655, 2482): 1 imágenes\n",
            "Resolución (152, 139): 1 imágenes\n",
            "Resolución (4608, 3456): 1 imágenes\n",
            "Resolución (640, 543): 1 imágenes\n",
            "Resolución (160, 193): 1 imágenes\n",
            "Resolución (105, 140): 1 imágenes\n",
            "Resolución (640, 527): 1 imágenes\n",
            "Resolución (2716, 4074): 1 imágenes\n",
            "Resolución (640, 533): 1 imágenes\n",
            "Resolución (299, 640): 1 imágenes\n",
            "Resolución (449, 640): 3 imágenes\n",
            "Resolución (640, 512): 2 imágenes\n",
            "Resolución (640, 573): 1 imágenes\n",
            "Resolución (2765, 4147): 1 imágenes\n",
            "Resolución (640, 554): 1 imágenes\n",
            "Resolución (507, 640): 1 imágenes\n",
            "Resolución (6000, 3798): 1 imágenes\n",
            "Resolución (587, 640): 1 imágenes\n",
            "Resolución (195, 180): 1 imágenes\n",
            "Resolución (194, 188): 1 imágenes\n",
            "Resolución (640, 482): 1 imágenes\n",
            "Resolución (5365, 3577): 1 imágenes\n",
            "Resolución (4480, 6720): 1 imágenes\n",
            "Resolución (314, 640): 1 imágenes\n",
            "Resolución (120, 118): 1 imágenes\n",
            "Resolución (618, 640): 1 imágenes\n",
            "Resolución (2832, 4256): 1 imágenes\n",
            "Resolución (2160, 3840): 1 imágenes\n",
            "Resolución (616, 640): 1 imágenes\n",
            "Resolución (4884, 3256): 1 imágenes\n",
            "Resolución (640, 484): 1 imágenes\n",
            "Resolución (398, 640): 1 imágenes\n",
            "Resolución (168, 112): 1 imágenes\n",
            "Resolución (640, 409): 1 imágenes\n",
            "Resolución (300, 142): 1 imágenes\n",
            "Resolución (241, 258): 1 imágenes\n",
            "Resolución (300, 151): 1 imágenes\n",
            "Resolución (101, 300): 2 imágenes\n",
            "Resolución (223, 250): 1 imágenes\n",
            "Resolución (240, 259): 2 imágenes\n",
            "Resolución (118, 300): 2 imágenes\n",
            "Resolución (287, 200): 1 imágenes\n",
            "Resolución (250, 270): 1 imágenes\n",
            "Resolución (300, 181): 2 imágenes\n",
            "Resolución (220, 283): 1 imágenes\n",
            "Resolución (236, 236): 1 imágenes\n",
            "Resolución (269, 232): 1 imágenes\n",
            "Resolución (300, 109): 1 imágenes\n",
            "Resolución (300, 137): 1 imágenes\n",
            "Resolución (300, 153): 1 imágenes\n",
            "Resolución (300, 157): 1 imágenes\n",
            "\n",
            "Resolución más baja: (57, 60) (Total píxeles: 3420)\n",
            "\n",
            "Total de resoluciones únicas: 1002\n"
          ]
        }
      ]
    },
    {
      "cell_type": "markdown",
      "source": [
        "*Ver orden real de las carpetas y elementos guardados en ellas.*"
      ],
      "metadata": {
        "id": "ognz3AFEhYFI"
      }
    },
    {
      "cell_type": "code",
      "source": [
        "ruta_base = '/content/Animals10/raw-img'\n",
        "def contar_imagenes_por_carpeta(ruta_base):\n",
        "    conteo = {}\n",
        "    formatos_imagen = ['.jpg', '.jpeg', '.png', '.bmp', '.gif']\n",
        "    for carpeta in os.listdir(ruta_base):\n",
        "        carpeta_path = os.path.join(ruta_base, carpeta)\n",
        "\n",
        "        if os.path.isdir(carpeta_path):\n",
        "            num_imagenes = len([f for f in os.listdir(carpeta_path) if any(f.endswith(ext) for ext in formatos_imagen)])\n",
        "            conteo[carpeta] = num_imagenes\n",
        "    return conteo\n",
        "conteo = contar_imagenes_por_carpeta(ruta_base)\n",
        "for carpeta, num_imagenes in conteo.items():\n",
        "    print(f\"Carpeta: {carpeta} -> {num_imagenes} imágenes\")\n"
      ],
      "metadata": {
        "colab": {
          "base_uri": "https://localhost:8080/"
        },
        "id": "r0TBZXfr3_eT",
        "outputId": "0996c8b2-d418-4e02-8954-c57ce609e550"
      },
      "execution_count": 27,
      "outputs": [
        {
          "output_type": "stream",
          "name": "stdout",
          "text": [
            "Carpeta: farfalla -> 2112 imágenes\n",
            "Carpeta: mucca -> 1866 imágenes\n",
            "Carpeta: pecora -> 1820 imágenes\n",
            "Carpeta: elefante -> 1446 imágenes\n",
            "Carpeta: scoiattolo -> 1862 imágenes\n",
            "Carpeta: gallina -> 3098 imágenes\n",
            "Carpeta: ragno -> 4821 imágenes\n",
            "Carpeta: cavallo -> 2623 imágenes\n",
            "Carpeta: gatto -> 1668 imágenes\n",
            "Carpeta: cane -> 4863 imágenes\n"
          ]
        }
      ]
    },
    {
      "cell_type": "markdown",
      "source": [
        "*Bajar resolución de imágenes.*"
      ],
      "metadata": {
        "id": "RHjHaYMYgiHZ"
      }
    },
    {
      "cell_type": "code",
      "source": [
        "input_path = '/content/Animals10/raw-img'\n",
        "output_path = '/content/Animals10/resized-images'\n",
        "target_resolution = (57, 60)\n",
        "os.makedirs(output_path, exist_ok=True)\n",
        "for folder_name in os.listdir(input_path):\n",
        "    folder_path = os.path.join(input_path, folder_name)\n",
        "    if os.path.isdir(folder_path):\n",
        "        output_folder_path = os.path.join(output_path, folder_name)\n",
        "        os.makedirs(output_folder_path, exist_ok=True)\n",
        "        for file_name in os.listdir(folder_path):\n",
        "            file_path = os.path.join(folder_path, file_name)\n",
        "            output_file_path = os.path.join(output_folder_path, file_name)\n",
        "            try:\n",
        "                img = cv2.imread(file_path)\n",
        "                if img is not None:\n",
        "                    resized_img = cv2.resize(img, (target_resolution[1], target_resolution[0]))\n",
        "                    cv2.imwrite(output_file_path, resized_img)\n",
        "            except Exception as e:\n",
        "                print(f\"Error al redimensionar la imagen: {file_path}. Error: {e}\")\n",
        "print(f\"Todas las imágenes han sido redimensionadas a la resolución: {target_resolution} (altura, ancho)\")\n",
        "print(f\"Imágenes guardadas en: {output_path}\")"
      ],
      "metadata": {
        "colab": {
          "base_uri": "https://localhost:8080/"
        },
        "id": "6G7ga5tU054s",
        "outputId": "8696c32d-7496-4f55-d5be-e016d5d61a8c"
      },
      "execution_count": 28,
      "outputs": [
        {
          "output_type": "stream",
          "name": "stdout",
          "text": [
            "Todas las imágenes han sido redimensionadas a la resolución: (57, 60) (altura, ancho)\n",
            "Imágenes guardadas en: /content/Animals10/resized-images\n"
          ]
        }
      ]
    },
    {
      "cell_type": "markdown",
      "source": [
        "*Crear vectores \"x\" y \"y\".*"
      ],
      "metadata": {
        "id": "E07qoWJLiASx"
      }
    },
    {
      "cell_type": "code",
      "source": [
        "x = []\n",
        "y = []\n",
        "ClasesName = ['mariposa','vaca','oveja','elefante','ardilla','gallina','araña','caballo','gato','perro']  # Cambia estos nombres a las clases correctas\n",
        "\n",
        "for folder_index, folder_name in enumerate(os.listdir(input_path)):\n",
        "    folder_path = os.path.join(input_path, folder_name)\n",
        "    if os.path.isdir(folder_path):\n",
        "        for file_name in os.listdir(folder_path):\n",
        "            file_path = os.path.join(folder_path, file_name)\n",
        "            try:\n",
        "                img = cv2.imread(file_path)\n",
        "                if img is not None:\n",
        "                    img_resized = cv2.resize(img, (57, 60))\n",
        "                    x.append(img_resized)\n",
        "                    y.append(folder_index)\n",
        "            except Exception as e:\n",
        "                print(f\"Error al procesar la imagen: {file_path}. Error: {e}\")\n",
        "\n",
        "# Convertir x a un arreglo de NumPy\n",
        "x = np.array(x)\n",
        "y = np.array(y)\n",
        "\n",
        "print(f\"Total de imágenes en X: {len(x)}\")\n",
        "print(f\"Total de clases en Y: {len(y)}\")\n"
      ],
      "metadata": {
        "colab": {
          "base_uri": "https://localhost:8080/"
        },
        "id": "y67mvfVV4MfC",
        "outputId": "13653a14-55e7-49ef-9e12-491a2bf6c6f5"
      },
      "execution_count": 29,
      "outputs": [
        {
          "output_type": "stream",
          "name": "stdout",
          "text": [
            "Total de imágenes en X: 26179\n",
            "Total de clases en Y: 26179\n"
          ]
        }
      ]
    },
    {
      "cell_type": "code",
      "source": [
        "x.shape"
      ],
      "metadata": {
        "colab": {
          "base_uri": "https://localhost:8080/"
        },
        "id": "voy6IhiHAeUj",
        "outputId": "602856c0-82e2-478b-908e-a6722b5079fb"
      },
      "execution_count": 30,
      "outputs": [
        {
          "output_type": "execute_result",
          "data": {
            "text/plain": [
              "(26179, 60, 57, 3)"
            ]
          },
          "metadata": {},
          "execution_count": 30
        }
      ]
    },
    {
      "cell_type": "code",
      "source": [
        "y.shape"
      ],
      "metadata": {
        "colab": {
          "base_uri": "https://localhost:8080/"
        },
        "id": "VAMM7WUCigc5",
        "outputId": "2ed600a7-6408-4c47-807e-91c964acb016"
      },
      "execution_count": 31,
      "outputs": [
        {
          "output_type": "execute_result",
          "data": {
            "text/plain": [
              "(26179,)"
            ]
          },
          "metadata": {},
          "execution_count": 31
        }
      ]
    },
    {
      "cell_type": "markdown",
      "source": [
        "*Probar vectores.*"
      ],
      "metadata": {
        "id": "pSCLZQfJiobx"
      }
    },
    {
      "cell_type": "code",
      "source": [
        "num_images = 5\n",
        "indices = random.sample(range(len(x)), num_images)\n",
        "plt.figure(figsize=(15, 5))\n",
        "\n",
        "for i, idx in enumerate(indices):\n",
        "    plt.subplot(1, num_images, i + 1)\n",
        "    plt.imshow(cv2.cvtColor(x[idx], cv2.COLOR_BGR2RGB))\n",
        "    plt.title(f\"Clase: {ClasesName[y[idx]]} \")\n",
        "    plt.axis('off')\n",
        "\n",
        "plt.show()"
      ],
      "metadata": {
        "colab": {
          "base_uri": "https://localhost:8080/",
          "height": 270
        },
        "id": "KYTBkddSCulz",
        "outputId": "abe0d9b1-7ce8-4d29-b71f-8be8db345c96"
      },
      "execution_count": 43,
      "outputs": [
        {
          "output_type": "display_data",
          "data": {
            "text/plain": [
              "<Figure size 1500x500 with 5 Axes>"
            ],
            "image/png": "[encoded data removed]"
          },
          "metadata": {}
        }
      ]
    },
    {
      "cell_type": "markdown",
      "source": [
        "**Creación de red neuronal y entrenamiento.**"
      ],
      "metadata": {
        "id": "bqVsFiqSjcmR"
      }
    },
    {
      "cell_type": "markdown",
      "source": [
        "*Dividir el conjunto de datos en entrenamiento (80%) y prueba (20%)*"
      ],
      "metadata": {
        "id": "l4fVqma7jmoy"
      }
    },
    {
      "cell_type": "code",
      "source": [
        "x_train, x_temp, y_train, y_temp = train_test_split(x, y, test_size=0.2, random_state=42, stratify=y)"
      ],
      "metadata": {
        "id": "aHS_-BPiEogz"
      },
      "execution_count": 44,
      "outputs": []
    },
    {
      "cell_type": "markdown",
      "source": [
        "*Dividir el 20% restante en validación (10%) y prueba (10%)*"
      ],
      "metadata": {
        "id": "Dxm5w9mxjs0B"
      }
    },
    {
      "cell_type": "code",
      "source": [
        "x_val, x_test, y_val, y_test = train_test_split(x_temp, y_temp, test_size=0.5, random_state=42, stratify=y_temp)"
      ],
      "metadata": {
        "id": "E4jRijGCEsIM"
      },
      "execution_count": 45,
      "outputs": []
    },
    {
      "cell_type": "markdown",
      "source": [
        "*Normalizar datos*"
      ],
      "metadata": {
        "id": "vebL39VQkSz5"
      }
    },
    {
      "cell_type": "code",
      "source": [
        "x_train = x_train / 255.0\n",
        "x_val = x_val / 255.0\n",
        "x_test = x_test / 255.0"
      ],
      "metadata": {
        "id": "M-Kjui5KE1QD"
      },
      "execution_count": 46,
      "outputs": []
    },
    {
      "cell_type": "markdown",
      "source": [
        "*Crear red.*"
      ],
      "metadata": {
        "id": "X_fh2OoGkhR4"
      }
    },
    {
      "cell_type": "code",
      "source": [
        "model = models.Sequential()\n",
        "model.add(layers.Conv2D(32, (3, 3), activation='relu', input_shape=(60, 57, 3)))\n",
        "model.add(layers.MaxPooling2D((2, 2)))\n",
        "model.add(layers.Conv2D(64, (3, 3), activation='relu'))\n",
        "model.add(layers.MaxPooling2D((2, 2)))\n",
        "model.add(layers.Conv2D(128, (3, 3), activation='relu'))\n",
        "model.add(layers.MaxPooling2D((2, 2)))\n",
        "model.add(layers.Flatten())\n",
        "model.add(layers.Dense(128, activation='relu'))\n",
        "model.add(layers.Dense(47, activation='softmax'))"
      ],
      "metadata": {
        "colab": {
          "base_uri": "https://localhost:8080/"
        },
        "id": "OPHrofR3E65j",
        "outputId": "64382c83-48e3-4078-f511-71a4e8013123"
      },
      "execution_count": 47,
      "outputs": [
        {
          "output_type": "stream",
          "name": "stderr",
          "text": [
            "/usr/local/lib/python3.10/dist-packages/keras/src/layers/convolutional/base_conv.py:107: UserWarning: Do not pass an `input_shape`/`input_dim` argument to a layer. When using Sequential models, prefer using an `Input(shape)` object as the first layer in the model instead.\n",
            "  super().__init__(activity_regularizer=activity_regularizer, **kwargs)\n"
          ]
        }
      ]
    },
    {
      "cell_type": "code",
      "source": [
        "model.summary()"
      ],
      "metadata": {
        "colab": {
          "base_uri": "https://localhost:8080/",
          "height": 417
        },
        "id": "BqjjTOElE_Cj",
        "outputId": "3a397fd8-ee2e-4688-9f01-151d8d9fced7"
      },
      "execution_count": 48,
      "outputs": [
        {
          "output_type": "display_data",
          "data": {
            "text/plain": [
              "\u001b[1mModel: \"sequential\"\u001b[0m\n"
            ],
            "text/html": [
              "<pre style=\"white-space:pre;overflow-x:auto;line-height:normal;font-family:Menlo,'DejaVu Sans Mono',consolas,'Courier New',monospace\"><span style=\"font-weight: bold\">Model: \"sequential\"</span>\n",
              "</pre>\n"
            ]
          },
          "metadata": {}
        },
        {
          "output_type": "display_data",
          "data": {
            "text/plain": [
              "┏━━━━━━━━━━━━━━━━━━━━━━━━━━━━━━━━━━━━━━┳━━━━━━━━━━━━━━━━━━━━━━━━━━━━━┳━━━━━━━━━━━━━━━━━┓\n",
              "┃\u001b[1m \u001b[0m\u001b[1mLayer (type)                        \u001b[0m\u001b[1m \u001b[0m┃\u001b[1m \u001b[0m\u001b[1mOutput Shape               \u001b[0m\u001b[1m \u001b[0m┃\u001b[1m \u001b[0m\u001b[1m        Param #\u001b[0m\u001b[1m \u001b[0m┃\n",
              "┡━━━━━━━━━━━━━━━━━━━━━━━━━━━━━━━━━━━━━━╇━━━━━━━━━━━━━━━━━━━━━━━━━━━━━╇━━━━━━━━━━━━━━━━━┩\n",
              "│ conv2d (\u001b[38;5;33mConv2D\u001b[0m)                      │ (\u001b[38;5;45mNone\u001b[0m, \u001b[38;5;34m58\u001b[0m, \u001b[38;5;34m55\u001b[0m, \u001b[38;5;34m32\u001b[0m)          │             \u001b[38;5;34m896\u001b[0m │\n",
              "├──────────────────────────────────────┼─────────────────────────────┼─────────────────┤\n",
              "│ max_pooling2d (\u001b[38;5;33mMaxPooling2D\u001b[0m)         │ (\u001b[38;5;45mNone\u001b[0m, \u001b[38;5;34m29\u001b[0m, \u001b[38;5;34m27\u001b[0m, \u001b[38;5;34m32\u001b[0m)          │               \u001b[38;5;34m0\u001b[0m │\n",
              "├──────────────────────────────────────┼─────────────────────────────┼─────────────────┤\n",
              "│ conv2d_1 (\u001b[38;5;33mConv2D\u001b[0m)                    │ (\u001b[38;5;45mNone\u001b[0m, \u001b[38;5;34m27\u001b[0m, \u001b[38;5;34m25\u001b[0m, \u001b[38;5;34m64\u001b[0m)          │          \u001b[38;5;34m18,496\u001b[0m │\n",
              "├──────────────────────────────────────┼─────────────────────────────┼─────────────────┤\n",
              "│ max_pooling2d_1 (\u001b[38;5;33mMaxPooling2D\u001b[0m)       │ (\u001b[38;5;45mNone\u001b[0m, \u001b[38;5;34m13\u001b[0m, \u001b[38;5;34m12\u001b[0m, \u001b[38;5;34m64\u001b[0m)          │               \u001b[38;5;34m0\u001b[0m │\n",
              "├──────────────────────────────────────┼─────────────────────────────┼─────────────────┤\n",
              "│ conv2d_2 (\u001b[38;5;33mConv2D\u001b[0m)                    │ (\u001b[38;5;45mNone\u001b[0m, \u001b[38;5;34m11\u001b[0m, \u001b[38;5;34m10\u001b[0m, \u001b[38;5;34m128\u001b[0m)         │          \u001b[38;5;34m73,856\u001b[0m │\n",
              "├──────────────────────────────────────┼─────────────────────────────┼─────────────────┤\n",
              "│ max_pooling2d_2 (\u001b[38;5;33mMaxPooling2D\u001b[0m)       │ (\u001b[38;5;45mNone\u001b[0m, \u001b[38;5;34m5\u001b[0m, \u001b[38;5;34m5\u001b[0m, \u001b[38;5;34m128\u001b[0m)           │               \u001b[38;5;34m0\u001b[0m │\n",
              "├──────────────────────────────────────┼─────────────────────────────┼─────────────────┤\n",
              "│ flatten (\u001b[38;5;33mFlatten\u001b[0m)                    │ (\u001b[38;5;45mNone\u001b[0m, \u001b[38;5;34m3200\u001b[0m)                │               \u001b[38;5;34m0\u001b[0m │\n",
              "├──────────────────────────────────────┼─────────────────────────────┼─────────────────┤\n",
              "│ dense (\u001b[38;5;33mDense\u001b[0m)                        │ (\u001b[38;5;45mNone\u001b[0m, \u001b[38;5;34m128\u001b[0m)                 │         \u001b[38;5;34m409,728\u001b[0m │\n",
              "├──────────────────────────────────────┼─────────────────────────────┼─────────────────┤\n",
              "│ dense_1 (\u001b[38;5;33mDense\u001b[0m)                      │ (\u001b[38;5;45mNone\u001b[0m, \u001b[38;5;34m47\u001b[0m)                  │           \u001b[38;5;34m6,063\u001b[0m │\n",
              "└──────────────────────────────────────┴─────────────────────────────┴─────────────────┘\n"
            ],
            "text/html": [
              "<pre style=\"white-space:pre;overflow-x:auto;line-height:normal;font-family:Menlo,'DejaVu Sans Mono',consolas,'Courier New',monospace\">┏━━━━━━━━━━━━━━━━━━━━━━━━━━━━━━━━━━━━━━┳━━━━━━━━━━━━━━━━━━━━━━━━━━━━━┳━━━━━━━━━━━━━━━━━┓\n",
              "┃<span style=\"font-weight: bold\"> Layer (type)                         </span>┃<span style=\"font-weight: bold\"> Output Shape                </span>┃<span style=\"font-weight: bold\">         Param # </span>┃\n",
              "┡━━━━━━━━━━━━━━━━━━━━━━━━━━━━━━━━━━━━━━╇━━━━━━━━━━━━━━━━━━━━━━━━━━━━━╇━━━━━━━━━━━━━━━━━┩\n",
              "│ conv2d (<span style=\"color: #0087ff; text-decoration-color: #0087ff\">Conv2D</span>)                      │ (<span style=\"color: #00d7ff; text-decoration-color: #00d7ff\">None</span>, <span style=\"color: #00af00; text-decoration-color: #00af00\">58</span>, <span style=\"color: #00af00; text-decoration-color: #00af00\">55</span>, <span style=\"color: #00af00; text-decoration-color: #00af00\">32</span>)          │             <span style=\"color: #00af00; text-decoration-color: #00af00\">896</span> │\n",
              "├──────────────────────────────────────┼─────────────────────────────┼─────────────────┤\n",
              "│ max_pooling2d (<span style=\"color: #0087ff; text-decoration-color: #0087ff\">MaxPooling2D</span>)         │ (<span style=\"color: #00d7ff; text-decoration-color: #00d7ff\">None</span>, <span style=\"color: #00af00; text-decoration-color: #00af00\">29</span>, <span style=\"color: #00af00; text-decoration-color: #00af00\">27</span>, <span style=\"color: #00af00; text-decoration-color: #00af00\">32</span>)          │               <span style=\"color: #00af00; text-decoration-color: #00af00\">0</span> │\n",
              "├──────────────────────────────────────┼─────────────────────────────┼─────────────────┤\n",
              "│ conv2d_1 (<span style=\"color: #0087ff; text-decoration-color: #0087ff\">Conv2D</span>)                    │ (<span style=\"color: #00d7ff; text-decoration-color: #00d7ff\">None</span>, <span style=\"color: #00af00; text-decoration-color: #00af00\">27</span>, <span style=\"color: #00af00; text-decoration-color: #00af00\">25</span>, <span style=\"color: #00af00; text-decoration-color: #00af00\">64</span>)          │          <span style=\"color: #00af00; text-decoration-color: #00af00\">18,496</span> │\n",
              "├──────────────────────────────────────┼─────────────────────────────┼─────────────────┤\n",
              "│ max_pooling2d_1 (<span style=\"color: #0087ff; text-decoration-color: #0087ff\">MaxPooling2D</span>)       │ (<span style=\"color: #00d7ff; text-decoration-color: #00d7ff\">None</span>, <span style=\"color: #00af00; text-decoration-color: #00af00\">13</span>, <span style=\"color: #00af00; text-decoration-color: #00af00\">12</span>, <span style=\"color: #00af00; text-decoration-color: #00af00\">64</span>)          │               <span style=\"color: #00af00; text-decoration-color: #00af00\">0</span> │\n",
              "├──────────────────────────────────────┼─────────────────────────────┼─────────────────┤\n",
              "│ conv2d_2 (<span style=\"color: #0087ff; text-decoration-color: #0087ff\">Conv2D</span>)                    │ (<span style=\"color: #00d7ff; text-decoration-color: #00d7ff\">None</span>, <span style=\"color: #00af00; text-decoration-color: #00af00\">11</span>, <span style=\"color: #00af00; text-decoration-color: #00af00\">10</span>, <span style=\"color: #00af00; text-decoration-color: #00af00\">128</span>)         │          <span style=\"color: #00af00; text-decoration-color: #00af00\">73,856</span> │\n",
              "├──────────────────────────────────────┼─────────────────────────────┼─────────────────┤\n",
              "│ max_pooling2d_2 (<span style=\"color: #0087ff; text-decoration-color: #0087ff\">MaxPooling2D</span>)       │ (<span style=\"color: #00d7ff; text-decoration-color: #00d7ff\">None</span>, <span style=\"color: #00af00; text-decoration-color: #00af00\">5</span>, <span style=\"color: #00af00; text-decoration-color: #00af00\">5</span>, <span style=\"color: #00af00; text-decoration-color: #00af00\">128</span>)           │               <span style=\"color: #00af00; text-decoration-color: #00af00\">0</span> │\n",
              "├──────────────────────────────────────┼─────────────────────────────┼─────────────────┤\n",
              "│ flatten (<span style=\"color: #0087ff; text-decoration-color: #0087ff\">Flatten</span>)                    │ (<span style=\"color: #00d7ff; text-decoration-color: #00d7ff\">None</span>, <span style=\"color: #00af00; text-decoration-color: #00af00\">3200</span>)                │               <span style=\"color: #00af00; text-decoration-color: #00af00\">0</span> │\n",
              "├──────────────────────────────────────┼─────────────────────────────┼─────────────────┤\n",
              "│ dense (<span style=\"color: #0087ff; text-decoration-color: #0087ff\">Dense</span>)                        │ (<span style=\"color: #00d7ff; text-decoration-color: #00d7ff\">None</span>, <span style=\"color: #00af00; text-decoration-color: #00af00\">128</span>)                 │         <span style=\"color: #00af00; text-decoration-color: #00af00\">409,728</span> │\n",
              "├──────────────────────────────────────┼─────────────────────────────┼─────────────────┤\n",
              "│ dense_1 (<span style=\"color: #0087ff; text-decoration-color: #0087ff\">Dense</span>)                      │ (<span style=\"color: #00d7ff; text-decoration-color: #00d7ff\">None</span>, <span style=\"color: #00af00; text-decoration-color: #00af00\">47</span>)                  │           <span style=\"color: #00af00; text-decoration-color: #00af00\">6,063</span> │\n",
              "└──────────────────────────────────────┴─────────────────────────────┴─────────────────┘\n",
              "</pre>\n"
            ]
          },
          "metadata": {}
        },
        {
          "output_type": "display_data",
          "data": {
            "text/plain": [
              "\u001b[1m Total params: \u001b[0m\u001b[38;5;34m509,039\u001b[0m (1.94 MB)\n"
            ],
            "text/html": [
              "<pre style=\"white-space:pre;overflow-x:auto;line-height:normal;font-family:Menlo,'DejaVu Sans Mono',consolas,'Courier New',monospace\"><span style=\"font-weight: bold\"> Total params: </span><span style=\"color: #00af00; text-decoration-color: #00af00\">509,039</span> (1.94 MB)\n",
              "</pre>\n"
            ]
          },
          "metadata": {}
        },
        {
          "output_type": "display_data",
          "data": {
            "text/plain": [
              "\u001b[1m Trainable params: \u001b[0m\u001b[38;5;34m509,039\u001b[0m (1.94 MB)\n"
            ],
            "text/html": [
              "<pre style=\"white-space:pre;overflow-x:auto;line-height:normal;font-family:Menlo,'DejaVu Sans Mono',consolas,'Courier New',monospace\"><span style=\"font-weight: bold\"> Trainable params: </span><span style=\"color: #00af00; text-decoration-color: #00af00\">509,039</span> (1.94 MB)\n",
              "</pre>\n"
            ]
          },
          "metadata": {}
        },
        {
          "output_type": "display_data",
          "data": {
            "text/plain": [
              "\u001b[1m Non-trainable params: \u001b[0m\u001b[38;5;34m0\u001b[0m (0.00 B)\n"
            ],
            "text/html": [
              "<pre style=\"white-space:pre;overflow-x:auto;line-height:normal;font-family:Menlo,'DejaVu Sans Mono',consolas,'Courier New',monospace\"><span style=\"font-weight: bold\"> Non-trainable params: </span><span style=\"color: #00af00; text-decoration-color: #00af00\">0</span> (0.00 B)\n",
              "</pre>\n"
            ]
          },
          "metadata": {}
        }
      ]
    },
    {
      "cell_type": "markdown",
      "source": [
        "*Compilamos el modelo*"
      ],
      "metadata": {
        "id": "JQa-WM2SlJox"
      }
    },
    {
      "cell_type": "code",
      "source": [
        "model.compile(\n",
        "    optimizer='adam',\n",
        "    loss='sparse_categorical_crossentropy',\n",
        "    metrics=['accuracy'])"
      ],
      "metadata": {
        "id": "hF9BhIdNFH77"
      },
      "execution_count": 49,
      "outputs": []
    },
    {
      "cell_type": "markdown",
      "source": [
        "*Entrenar Red*"
      ],
      "metadata": {
        "id": "FIxX5l69liHB"
      }
    },
    {
      "cell_type": "code",
      "source": [
        "history = model.fit(\n",
        "    x_train, y_train,\n",
        "    epochs=10,\n",
        "    validation_data=(x_val, y_val)\n",
        ")"
      ],
      "metadata": {
        "colab": {
          "base_uri": "https://localhost:8080/"
        },
        "id": "Fp1y2LZkFMUk",
        "outputId": "44bd5ebd-3f83-4606-f14f-450033fb1c6d"
      },
      "execution_count": 50,
      "outputs": [
        {
          "output_type": "stream",
          "name": "stdout",
          "text": [
            "Epoch 1/10\n",
            "\u001b[1m655/655\u001b[0m \u001b[32m━━━━━━━━━━━━━━━━━━━━\u001b[0m\u001b[37m\u001b[0m \u001b[1m142s\u001b[0m 214ms/step - accuracy: 0.2796 - loss: 2.0832 - val_accuracy: 0.4840 - val_loss: 1.5258\n",
            "Epoch 2/10\n",
            "\u001b[1m655/655\u001b[0m \u001b[32m━━━━━━━━━━━━━━━━━━━━\u001b[0m\u001b[37m\u001b[0m \u001b[1m160s\u001b[0m 242ms/step - accuracy: 0.5155 - loss: 1.4232 - val_accuracy: 0.5577 - val_loss: 1.2926\n",
            "Epoch 3/10\n",
            "\u001b[1m655/655\u001b[0m \u001b[32m━━━━━━━━━━━━━━━━━━━━\u001b[0m\u001b[37m\u001b[0m \u001b[1m178s\u001b[0m 206ms/step - accuracy: 0.5993 - loss: 1.1737 - val_accuracy: 0.6108 - val_loss: 1.1573\n",
            "Epoch 4/10\n",
            "\u001b[1m655/655\u001b[0m \u001b[32m━━━━━━━━━━━━━━━━━━━━\u001b[0m\u001b[37m\u001b[0m \u001b[1m139s\u001b[0m 201ms/step - accuracy: 0.6665 - loss: 0.9848 - val_accuracy: 0.6325 - val_loss: 1.0942\n",
            "Epoch 5/10\n",
            "\u001b[1m655/655\u001b[0m \u001b[32m━━━━━━━━━━━━━━━━━━━━\u001b[0m\u001b[37m\u001b[0m \u001b[1m141s\u001b[0m 200ms/step - accuracy: 0.7190 - loss: 0.8400 - val_accuracy: 0.6318 - val_loss: 1.1056\n",
            "Epoch 6/10\n",
            "\u001b[1m655/655\u001b[0m \u001b[32m━━━━━━━━━━━━━━━━━━━━\u001b[0m\u001b[37m\u001b[0m \u001b[1m134s\u001b[0m 204ms/step - accuracy: 0.7567 - loss: 0.7252 - val_accuracy: 0.6658 - val_loss: 1.0111\n",
            "Epoch 7/10\n",
            "\u001b[1m655/655\u001b[0m \u001b[32m━━━━━━━━━━━━━━━━━━━━\u001b[0m\u001b[37m\u001b[0m \u001b[1m132s\u001b[0m 201ms/step - accuracy: 0.7997 - loss: 0.5922 - val_accuracy: 0.6383 - val_loss: 1.1705\n",
            "Epoch 8/10\n",
            "\u001b[1m655/655\u001b[0m \u001b[32m━━━━━━━━━━━━━━━━━━━━\u001b[0m\u001b[37m\u001b[0m \u001b[1m138s\u001b[0m 195ms/step - accuracy: 0.8429 - loss: 0.4852 - val_accuracy: 0.6555 - val_loss: 1.1635\n",
            "Epoch 9/10\n",
            "\u001b[1m655/655\u001b[0m \u001b[32m━━━━━━━━━━━━━━━━━━━━\u001b[0m\u001b[37m\u001b[0m \u001b[1m126s\u001b[0m 192ms/step - accuracy: 0.8664 - loss: 0.3989 - val_accuracy: 0.6616 - val_loss: 1.2699\n",
            "Epoch 10/10\n",
            "\u001b[1m655/655\u001b[0m \u001b[32m━━━━━━━━━━━━━━━━━━━━\u001b[0m\u001b[37m\u001b[0m \u001b[1m157s\u001b[0m 215ms/step - accuracy: 0.9060 - loss: 0.2811 - val_accuracy: 0.6520 - val_loss: 1.3681\n"
          ]
        }
      ]
    },
    {
      "cell_type": "markdown",
      "source": [
        "*Verificar exactitud del entrenamiento.*"
      ],
      "metadata": {
        "id": "j4C4qJCB54nL"
      }
    },
    {
      "cell_type": "code",
      "source": [
        "test_loss, test_acc = model.evaluate(x_test, y_test)\n",
        "print(f\"Precisión en el conjunto de prueba: {test_acc:.2f}\")"
      ],
      "metadata": {
        "colab": {
          "base_uri": "https://localhost:8080/"
        },
        "id": "dnmakb0vHqWZ",
        "outputId": "81a2c5b9-faaa-46f4-d653-6ae89483457d"
      },
      "execution_count": 51,
      "outputs": [
        {
          "output_type": "stream",
          "name": "stdout",
          "text": [
            "\u001b[1m82/82\u001b[0m \u001b[32m━━━━━━━━━━━━━━━━━━━━\u001b[0m\u001b[37m\u001b[0m \u001b[1m5s\u001b[0m 65ms/step - accuracy: 0.6738 - loss: 1.2630\n",
            "Precisión en el conjunto de prueba: 0.67\n"
          ]
        }
      ]
    },
    {
      "cell_type": "markdown",
      "source": [
        "**Validación del modelo**"
      ],
      "metadata": {
        "id": "IHA4x9-d6R5K"
      }
    },
    {
      "cell_type": "markdown",
      "source": [
        "*Gráfico de precisión y pérdida*"
      ],
      "metadata": {
        "id": "R-r9Uasa67rL"
      }
    },
    {
      "cell_type": "code",
      "source": [
        "import matplotlib.pyplot as plt\n",
        "\n",
        "plt.figure(figsize=(12, 5))\n",
        "plt.subplot(1, 2, 1)\n",
        "plt.plot(history.history['accuracy'], label='Entrenamiento')\n",
        "plt.plot(history.history['val_accuracy'], label='Validación')\n",
        "plt.xlabel('Épocas')\n",
        "plt.ylabel('Precisión')\n",
        "plt.legend()\n",
        "plt.title('Precisión del Modelo')\n",
        "\n",
        "plt.subplot(1, 2, 2)\n",
        "plt.plot(history.history['loss'], label='Entrenamiento')\n",
        "plt.plot(history.history['val_loss'], label='Validación')\n",
        "plt.xlabel('Épocas')\n",
        "plt.ylabel('Pérdida')\n",
        "plt.legend()\n",
        "plt.title('Pérdida del Modelo')\n",
        "\n",
        "plt.show()"
      ],
      "metadata": {
        "colab": {
          "base_uri": "https://localhost:8080/",
          "height": 489
        },
        "id": "HjWO1kH769ys",
        "outputId": "b8a21557-3ad9-4a9f-e521-326a226c7c3f"
      },
      "execution_count": 52,
      "outputs": [
        {
          "output_type": "display_data",
          "data": {
            "text/plain": [
              "<Figure size 1200x500 with 2 Axes>"
            ],
            "image/png": "[encoded data removed]"
          },
          "metadata": {}
        }
      ]
    },
    {
      "cell_type": "markdown",
      "source": [
        "*Predicciones de prueba.*"
      ],
      "metadata": {
        "id": "MBV52i8u6gxq"
      }
    },
    {
      "cell_type": "code",
      "source": [
        "fig, axes = plt.subplots(1, 5, figsize=(15, 5))\n",
        "\n",
        "for i in range(5):\n",
        "    image = x_test[i].reshape(1, 60, 57, 3)\n",
        "    prediction = model.predict(image)\n",
        "    predicted_label = np.argmax(prediction)\n",
        "    actual_label = y_test[i]\n",
        "    axes[i].imshow(x_test[i])\n",
        "    axes[i].set_title(f\"Predicción: {ClasesName[predicted_label]}\\nReal: {ClasesName[actual_label]}\")\n",
        "    axes[i].axis('off')\n",
        "\n",
        "plt.tight_layout()\n",
        "plt.show()"
      ],
      "metadata": {
        "colab": {
          "base_uri": "https://localhost:8080/",
          "height": 445
        },
        "id": "zhLgjrKDD4q0",
        "outputId": "4e3c5f08-9efd-460a-e002-b6e38ff72dab"
      },
      "execution_count": 59,
      "outputs": [
        {
          "output_type": "stream",
          "name": "stdout",
          "text": [
            "\u001b[1m1/1\u001b[0m \u001b[32m━━━━━━━━━━━━━━━━━━━━\u001b[0m\u001b[37m\u001b[0m \u001b[1m0s\u001b[0m 25ms/step\n",
            "\u001b[1m1/1\u001b[0m \u001b[32m━━━━━━━━━━━━━━━━━━━━\u001b[0m\u001b[37m\u001b[0m \u001b[1m0s\u001b[0m 26ms/step\n",
            "\u001b[1m1/1\u001b[0m \u001b[32m━━━━━━━━━━━━━━━━━━━━\u001b[0m\u001b[37m\u001b[0m \u001b[1m0s\u001b[0m 28ms/step\n",
            "\u001b[1m1/1\u001b[0m \u001b[32m━━━━━━━━━━━━━━━━━━━━\u001b[0m\u001b[37m\u001b[0m \u001b[1m0s\u001b[0m 27ms/step\n",
            "\u001b[1m1/1\u001b[0m \u001b[32m━━━━━━━━━━━━━━━━━━━━\u001b[0m\u001b[37m\u001b[0m \u001b[1m0s\u001b[0m 27ms/step\n"
          ]
        },
        {
          "output_type": "display_data",
          "data": {
            "text/plain": [
              "<Figure size 1500x500 with 5 Axes>"
            ],
            "image/png": "[encoded data removed]"
          },
          "metadata": {}
        }
      ]
    }
  ]
}