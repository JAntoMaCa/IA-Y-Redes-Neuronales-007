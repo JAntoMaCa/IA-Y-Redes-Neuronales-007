{
  "nbformat": 4,
  "nbformat_minor": 0,
  "metadata": {
    "colab": {
      "provenance": []
    },
    "kernelspec": {
      "name": "python3",
      "display_name": "Python 3"
    },
    "language_info": {
      "name": "python"
    }
  },
  "cells": [
    {
      "cell_type": "markdown",
      "source": [
        "**ACTIVIDAD 5: DISEÑO DE ALGORITMOS EN PYTHON**\n",
        "---\n",
        "\n"
      ],
      "metadata": {
        "id": "PGXRaWzdZCN0"
      }
    },
    {
      "cell_type": "markdown",
      "source": [
        "**2127803 JOSE ANTONIO MARTINEZ CALAN IMC**"
      ],
      "metadata": {
        "id": "LMb5wuMHZbZq"
      }
    },
    {
      "cell_type": "markdown",
      "source": [
        "**Ejercicio 1**: Desarrolla un algoritmo que le pida al usuario por su nombre y que lo salude con su nombre, excepto si se llama “Ana”, “Juan”, y “Pedro”."
      ],
      "metadata": {
        "id": "5XgB6i82V1cP"
      }
    },
    {
      "cell_type": "code",
      "source": [
        "NomIn = [\"Ana\", \"Juan\", \"Pedro\", \"ana\", \"juan\", \"pedro\"]\n",
        "nombre = input(\"Por favor, ingresa tu nombre: \")\n",
        "if nombre in NomIn:\n",
        "    print(\"No puedo saludarte.\")\n",
        "else:\n",
        "    print(f\"Hola, {nombre}!\")"
      ],
      "metadata": {
        "colab": {
          "base_uri": "https://localhost:8080/"
        },
        "id": "-0015HwLV7Ou",
        "outputId": "2bb67773-9e20-4284-ddae-99e974b1a080"
      },
      "execution_count": null,
      "outputs": [
        {
          "output_type": "stream",
          "name": "stdout",
          "text": [
            "Por favor, ingresa tu nombre: ana\n",
            "No puedo saludarte.\n"
          ]
        }
      ]
    },
    {
      "cell_type": "markdown",
      "source": [
        "**Ejercicio 2**: Desarrolla un algoritmo que por medio de una función, le pida al usuario una lista de N elementos y como resultado invierta el sentido de la lista."
      ],
      "metadata": {
        "id": "uQrX5ar9YTLk"
      }
    },
    {
      "cell_type": "code",
      "source": [
        "A = int(input(\"¿Cuántos elementos tendrá la lista? \"))\n",
        "lista = []\n",
        "for i in range(A):\n",
        "  elemento = input(f\"Ingrese el elemento {i+1}: \")\n",
        "  lista.append(elemento)\n",
        "lista_invertida = lista[::-1]\n",
        "print(\"Lista invertida:\", lista_invertida)"
      ],
      "metadata": {
        "colab": {
          "base_uri": "https://localhost:8080/"
        },
        "id": "bELRAAa5YUcV",
        "outputId": "bb623c49-09f0-45d2-a7d1-d75d49d6817f"
      },
      "execution_count": null,
      "outputs": [
        {
          "output_type": "stream",
          "name": "stdout",
          "text": [
            "¿Cuántos elementos tendrá la lista? 3\n",
            "Ingrese el elemento 1: Luz\n",
            "Ingrese el elemento 2: Agua\n",
            "Ingrese el elemento 3: Gas\n",
            "Lista invertida: ['Gas', 'Agua', 'Luz']\n"
          ]
        }
      ]
    },
    {
      "cell_type": "markdown",
      "source": [
        "**Ejercicio 3**: Desarrolla un algoritmo que le pregunte al usuario cuántos números de la serie de Fibonacci quiere generar y que al final los imprima."
      ],
      "metadata": {
        "id": "T0Fuku80Za3q"
      }
    },
    {
      "cell_type": "code",
      "source": [
        "n = int(input(\"¿Cuántos números de la serie de Fibonacci quieres generar? \"))\n",
        "fib = [0, 1]\n",
        "for i in range(2, n):\n",
        "    fib.append(fib[-1] + fib[-2])\n",
        "if n == 1:\n",
        "    fib = [0]\n",
        "print(\"Serie de Fibonacci:\", fib[:n])"
      ],
      "metadata": {
        "colab": {
          "base_uri": "https://localhost:8080/"
        },
        "id": "r_-9vnfmZklJ",
        "outputId": "55e14878-1f7d-436c-d35a-8314fb2bd018"
      },
      "execution_count": null,
      "outputs": [
        {
          "output_type": "stream",
          "name": "stdout",
          "text": [
            "¿Cuántos números de la serie de Fibonacci quieres generar? 8\n",
            "Serie de Fibonacci: [0, 1, 1, 2, 3, 5, 8, 13]\n"
          ]
        }
      ]
    },
    {
      "cell_type": "markdown",
      "source": [
        "**Ejercicio 4**: Juego de adivinar el número: Crea un programa que genere un número aleatorio entre 1 y 100, y luego le pida al usuario que adivine el número. El programa debe proporcionar pistas al usuario si el número es mayor o menor que el número objetivo, y seguir solicitando un nuevo intento hasta que el usuario adivine correctamente."
      ],
      "metadata": {
        "id": "Hk4dljWyblqE"
      }
    },
    {
      "cell_type": "code",
      "source": [
        "import random\n",
        "cont = 'si'\n",
        "num = random.randint(1, 100)\n",
        "inte = None\n",
        "ints = 0\n",
        "while inte != num:\n",
        "  inte = int(input(\"Adivina el número (entre 1 y 100): \"))\n",
        "  ints += 1\n",
        "  if inte < num:\n",
        "    print(\"El número es mayor.\")\n",
        "  elif inte > num:\n",
        "    print(\"El número es menor.\")\n",
        "  else:\n",
        "    print(\"¡Felicidades! Has adivinado el número.\")\n",
        "  if ints % 5 == 0:\n",
        "    cont = input(\"¿Quieres seguir intentándolo? escribe si (s/n): \")\n",
        "  if cont.lower() != 'si':\n",
        "    print(f\"El número correcto era: {num}\")\n",
        "    break\n",
        "    cont} = input(\"¿Quieres jugar otra vez? (s/n): \")\n",
        "\n",
        "print(\"Gracias por jugar. ¡Hasta luego!\")"
      ],
      "metadata": {
        "colab": {
          "base_uri": "https://localhost:8080/"
        },
        "id": "md5sd4NTbqLF",
        "outputId": "c5dd7c5c-e3e7-4c00-b4fc-55880ba211d9"
      },
      "execution_count": null,
      "outputs": [
        {
          "output_type": "stream",
          "name": "stdout",
          "text": [
            "Adivina el número (entre 1 y 100): 80\n",
            "El número es menor.\n",
            "Adivina el número (entre 1 y 100): 90\n",
            "El número es menor.\n",
            "Adivina el número (entre 1 y 100): 10\n",
            "El número es mayor.\n",
            "Adivina el número (entre 1 y 100): 11\n",
            "El número es mayor.\n",
            "Adivina el número (entre 1 y 100): 14\n",
            "El número es mayor.\n",
            "¿Quieres seguir intentándolo? escribe si (s/n): n0\n",
            "El número correcto era: 71\n",
            "Gracias por jugar. ¡Hasta luego!\n"
          ]
        }
      ]
    },
    {
      "cell_type": "markdown",
      "source": [
        "**Ejercicio 5**: Ejercicio de cálculo de números primos en un rango dado: Escribe un programa que solicite al usuario un rango de números y muestre todos los números primos dentro de ese rango."
      ],
      "metadata": {
        "id": "w37ihFuZftHz"
      }
    },
    {
      "cell_type": "code",
      "source": [
        "inicio = int(input(\"Ingresa el número de inicio del rango: \"))\n",
        "fin = int(input(\"Ingresa el número final del rango: \"))\n",
        "print(\"Números primos en el rango:\")\n",
        "for num in range(inicio, fin + 1):\n",
        "    if num < 2:\n",
        "        continue\n",
        "    es_primo = True\n",
        "    for i in range(2, int(num**0.5) + 1):\n",
        "        if num % i == 0:\n",
        "            es_primo = False\n",
        "            break\n",
        "    if es_primo:\n",
        "        print(num)\n"
      ],
      "metadata": {
        "colab": {
          "base_uri": "https://localhost:8080/"
        },
        "id": "gTW7l_P9fxc7",
        "outputId": "0b950015-d821-4502-dd18-b901387f216d"
      },
      "execution_count": null,
      "outputs": [
        {
          "output_type": "stream",
          "name": "stdout",
          "text": [
            "Ingresa el número de inicio del rango: 7\n",
            "Ingresa el número final del rango: 12\n",
            "Números primos en el rango:\n",
            "7\n",
            "11\n"
          ]
        }
      ]
    },
    {
      "cell_type": "markdown",
      "source": [
        "**Ejercicio 6**: Implementación de una calculadora básica utilizando funciones: Escribe un programa que solicite al usuario dos números y realice operaciones básicas como suma, resta, multiplicación y división utilizando funciones separadas para cada operación."
      ],
      "metadata": {
        "id": "xeCjUT7LgZ5W"
      }
    },
    {
      "cell_type": "code",
      "source": [
        "num1 = float(input(\"Ingresa el primer número: \"))\n",
        "num2 = float(input(\"Ingresa el segundo número: \"))\n",
        "print(\"Selecciona la operación:\")\n",
        "print(\"1. Suma\")\n",
        "print(\"2. Resta\")\n",
        "print(\"3. Multiplicación\")\n",
        "print(\"4. División\")\n",
        "opcion = input(\"Ingresa el número de la operación: \")\n",
        "if opcion == '1':\n",
        "    resultado = num1 + num2\n",
        "    print(\"Resultado:\\n\", num1, \" + \", num2, \" = \",resultado)\n",
        "elif opcion == '2':\n",
        "    resultado = num1 - num2\n",
        "    print(\"Resultado:\\n\", num1, \" - \", num2, \" = \",resultado)\n",
        "elif opcion == '3':\n",
        "    resultado = num1 * num2\n",
        "    print(\"Resultado:\\n\", num1, \" * \", num2, \" = \",resultado)\n",
        "elif opcion == '4':\n",
        "    if num2 == 0:\n",
        "        print(\"Error: División por cero\")\n",
        "    else:\n",
        "        resultado = num1 / num2\n",
        "        print(\"Resultado:\\n\", num1, \" / \", num2, \" = \",resultado)\n",
        "else:\n",
        "    print(\"Operación no válida.\")\n"
      ],
      "metadata": {
        "colab": {
          "base_uri": "https://localhost:8080/"
        },
        "id": "HHRkQA-3gr3o",
        "outputId": "3fcad3dd-a9a4-4ed4-f466-7d60e45bad46"
      },
      "execution_count": null,
      "outputs": [
        {
          "output_type": "stream",
          "name": "stdout",
          "text": [
            "Ingresa el primer número: 8\n",
            "Ingresa el segundo número: 5\n",
            "Selecciona la operación:\n",
            "1. Suma\n",
            "2. Resta\n",
            "3. Multiplicación\n",
            "4. División\n",
            "Ingresa el número de la operación: 4\n",
            "Resultado:\n",
            " 8.0  /  5.0  =  1.6\n"
          ]
        }
      ]
    }
  ]
}